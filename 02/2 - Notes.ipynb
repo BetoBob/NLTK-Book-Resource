{
 "cells": [
  {
   "cell_type": "markdown",
   "metadata": {},
   "source": [
    "[Chapter Here](https://www.nltk.org/book/ch02.html)"
   ]
  },
  {
   "cell_type": "markdown",
   "metadata": {},
   "source": [
    "# 1 - Accessing Text Corpora\n",
    "\n",
    "Corpuses Explored in this chapter include:\n",
    "1. [Gutenberg Corpus](http://www.gutenberg.org/)\n",
    "    * classic literature\n",
    "2. NLTK WebText\n",
    "    * more informal texts\n",
    "3. [Brown Corpus](https://en.wikipedia.org/wiki/Brown_Corpus)\n",
    "    * one of the earliest big text corpuses (1 million wods, 1961)\n",
    "    * has text that is divided in gneres (bet for comparing styles of writing)\n",
    "4. Reuters Corpus\n",
    "    * stores 10,788 news documents\n",
    "5. Inagural Address Corpus\n",
    "    * interesting because of it's time dimension (1789 - 2005)\n",
    "6. Annotated Text Corpora\n",
    "    * basically even more stuff from NLTK\n",
    "\n",
    "\n",
    "* [Guide to Creating NLTK Corpora](https://stackoverflow.com/questions/4951751/creating-a-new-corpus-with-nltk)"
   ]
  },
  {
   "cell_type": "markdown",
   "metadata": {},
   "source": [
    "## 1.1 Gutenberg Corpus"
   ]
  },
  {
   "cell_type": "code",
   "execution_count": 1,
   "metadata": {},
   "outputs": [
    {
     "data": {
      "text/plain": [
       "['austen-emma.txt',\n",
       " 'austen-persuasion.txt',\n",
       " 'austen-sense.txt',\n",
       " 'bible-kjv.txt',\n",
       " 'blake-poems.txt',\n",
       " 'bryant-stories.txt',\n",
       " 'burgess-busterbrown.txt',\n",
       " 'carroll-alice.txt',\n",
       " 'chesterton-ball.txt',\n",
       " 'chesterton-brown.txt',\n",
       " 'chesterton-thursday.txt',\n",
       " 'edgeworth-parents.txt',\n",
       " 'melville-moby_dick.txt',\n",
       " 'milton-paradise.txt',\n",
       " 'shakespeare-caesar.txt',\n",
       " 'shakespeare-hamlet.txt',\n",
       " 'shakespeare-macbeth.txt',\n",
       " 'whitman-leaves.txt']"
      ]
     },
     "execution_count": 1,
     "metadata": {},
     "output_type": "execute_result"
    }
   ],
   "source": [
    "import nltk\n",
    "nltk.corpus.gutenberg.fileids()"
   ]
  },
  {
   "cell_type": "code",
   "execution_count": 4,
   "metadata": {},
   "outputs": [
    {
     "data": {
      "text/plain": [
       "192427"
      ]
     },
     "execution_count": 4,
     "metadata": {},
     "output_type": "execute_result"
    }
   ],
   "source": [
    "emma = nltk.corpus.gutenberg.words('austen-emma.txt')\n",
    "len(emma)"
   ]
  },
  {
   "cell_type": "markdown",
   "metadata": {},
   "source": [
    "* raw gives number of chars\n",
    "* words gives number of words\n",
    "* sents gives number of scentences\n",
    "* vocab represents unique words in the text"
   ]
  },
  {
   "cell_type": "code",
   "execution_count": 10,
   "metadata": {},
   "outputs": [
    {
     "name": "stdout",
     "output_type": "stream",
     "text": [
      "5 25 26 austen-emma.txt\n",
      "5 26 17 austen-persuasion.txt\n",
      "5 28 22 austen-sense.txt\n",
      "4 34 79 bible-kjv.txt\n",
      "5 19 5 blake-poems.txt\n",
      "4 19 14 bryant-stories.txt\n",
      "4 18 12 burgess-busterbrown.txt\n",
      "4 20 13 carroll-alice.txt\n",
      "5 20 12 chesterton-ball.txt\n",
      "5 23 11 chesterton-brown.txt\n",
      "5 18 11 chesterton-thursday.txt\n",
      "4 21 25 edgeworth-parents.txt\n",
      "5 26 15 melville-moby_dick.txt\n",
      "5 52 11 milton-paradise.txt\n",
      "4 12 9 shakespeare-caesar.txt\n",
      "4 12 8 shakespeare-hamlet.txt\n",
      "4 12 7 shakespeare-macbeth.txt\n",
      "5 36 12 whitman-leaves.txt\n"
     ]
    }
   ],
   "source": [
    "from nltk.corpus import gutenberg\n",
    "\n",
    "for fileid in gutenberg.fileids():\n",
    "    num_chars = len(gutenberg.raw(fileid))\n",
    "    num_words = len(gutenberg.words(fileid))\n",
    "    num_sents = len(gutenberg.sents(fileid))\n",
    "    num_vocab = len(set(w.lower() for w in gutenberg.words(fileid)))\n",
    "    print(round(num_chars/num_words), round(num_words/num_sents), round(num_words/num_vocab), fileid)"
   ]
  },
  {
   "cell_type": "code",
   "execution_count": 13,
   "metadata": {},
   "outputs": [
    {
     "data": {
      "text/plain": [
       "[['[', 'The', 'Tragedie', 'of', 'Macbeth', 'by', 'William', 'Shakespeare', '1603', ']'], ['Actus', 'Primus', '.'], ...]"
      ]
     },
     "execution_count": 13,
     "metadata": {},
     "output_type": "execute_result"
    }
   ],
   "source": [
    "macbeth_sentences = gutenberg.sents('shakespeare-macbeth.txt')"
   ]
  },
  {
   "cell_type": "code",
   "execution_count": 15,
   "metadata": {},
   "outputs": [
    {
     "data": {
      "text/plain": [
       "nltk.corpus.reader.util.StreamBackedCorpusView"
      ]
     },
     "execution_count": 15,
     "metadata": {},
     "output_type": "execute_result"
    }
   ],
   "source": [
    "type(macbeth_sentences)"
   ]
  },
  {
   "cell_type": "code",
   "execution_count": 20,
   "metadata": {},
   "outputs": [
    {
     "data": {
      "text/plain": [
       "[['[',\n",
       "  'The',\n",
       "  'Tragedie',\n",
       "  'of',\n",
       "  'Macbeth',\n",
       "  'by',\n",
       "  'William',\n",
       "  'Shakespeare',\n",
       "  '1603',\n",
       "  ']'],\n",
       " ['Actus', 'Primus', '.'],\n",
       " ['Scoena', 'Prima', '.'],\n",
       " ['Thunder', 'and', 'Lightning', '.'],\n",
       " ['Enter', 'three', 'Witches', '.'],\n",
       " ['1', '.'],\n",
       " ['When', 'shall', 'we', 'three', 'meet', 'againe', '?'],\n",
       " ['In', 'Thunder', ',', 'Lightning', ',', 'or', 'in', 'Raine', '?']]"
      ]
     },
     "execution_count": 20,
     "metadata": {},
     "output_type": "execute_result"
    }
   ],
   "source": [
    "list(macbeth_sentences)[0:8]"
   ]
  },
  {
   "cell_type": "markdown",
   "metadata": {},
   "source": [
    "## 1.2 Web and Chat"
   ]
  },
  {
   "cell_type": "code",
   "execution_count": 21,
   "metadata": {},
   "outputs": [
    {
     "name": "stdout",
     "output_type": "stream",
     "text": [
      "firefox.txt\n",
      "grail.txt\n",
      "overheard.txt\n",
      "pirates.txt\n",
      "singles.txt\n",
      "wine.txt\n"
     ]
    }
   ],
   "source": [
    "from nltk.corpus import webtext\n",
    "for fileid in webtext.fileids():\n",
    "    print(fileid)"
   ]
  },
  {
   "cell_type": "markdown",
   "metadata": {},
   "source": [
    "## 1.3 Brown Corpus\n",
    "\n",
    "* [Documentation on NLTK Tagged Corpus Reader](https://www.nltk.org/_modules/nltk/corpus/reader/tagged.html)"
   ]
  },
  {
   "cell_type": "code",
   "execution_count": 22,
   "metadata": {},
   "outputs": [
    {
     "data": {
      "text/plain": [
       "['adventure',\n",
       " 'belles_lettres',\n",
       " 'editorial',\n",
       " 'fiction',\n",
       " 'government',\n",
       " 'hobbies',\n",
       " 'humor',\n",
       " 'learned',\n",
       " 'lore',\n",
       " 'mystery',\n",
       " 'news',\n",
       " 'religion',\n",
       " 'reviews',\n",
       " 'romance',\n",
       " 'science_fiction']"
      ]
     },
     "execution_count": 22,
     "metadata": {},
     "output_type": "execute_result"
    }
   ],
   "source": [
    "from nltk.corpus import brown\n",
    "brown.categories()"
   ]
  },
  {
   "cell_type": "code",
   "execution_count": 39,
   "metadata": {},
   "outputs": [
    {
     "data": {
      "text/plain": [
       "['The', 'Fulton', 'County', 'Grand', 'Jury', 'said', ...]"
      ]
     },
     "execution_count": 39,
     "metadata": {},
     "output_type": "execute_result"
    }
   ],
   "source": [
    "brown.words(fileids = brown.fileids()[0])"
   ]
  },
  {
   "cell_type": "markdown",
   "metadata": {},
   "source": [
    "### Conditional Frequency Distribution"
   ]
  },
  {
   "cell_type": "code",
   "execution_count": 40,
   "metadata": {},
   "outputs": [],
   "source": [
    "cfd = nltk.ConditionalFreqDist(\n",
    "...           (genre, word)\n",
    "...           for genre in brown.categories()\n",
    "...           for word in brown.words(categories=genre))"
   ]
  },
  {
   "cell_type": "code",
   "execution_count": 41,
   "metadata": {},
   "outputs": [
    {
     "name": "stdout",
     "output_type": "stream",
     "text": [
      "                  can could   may might  must  will \n",
      "           news    93    86    66    38    50   389 \n",
      "       religion    82    59    78    12    54    71 \n",
      "        hobbies   268    58   131    22    83   264 \n",
      "science_fiction    16    49     4    12     8    16 \n",
      "        romance    74   193    11    51    45    43 \n",
      "          humor    16    30     8     8     9    13 \n"
     ]
    }
   ],
   "source": [
    "genres = ['news', 'religion', 'hobbies', 'science_fiction', 'romance', 'humor']\n",
    "modals = ['can', 'could', 'may', 'might', 'must', 'will']\n",
    "cfd.tabulate(conditions=genres, samples=modals)"
   ]
  },
  {
   "cell_type": "markdown",
   "metadata": {},
   "source": [
    "## 1.6 Annotated Text Corpora\n",
    "* [Complete list of NLTK Corpora](http://www.nltk.org/nltk_data/)\n",
    "* we will be using the *Universal Decleration of Human Rights* for translating\n",
    "    \n",
    "| Corpus                                | Compiler              | Contents                                  |\n",
    "|---------------------------------------|-----------------------|-------------------------------------------|\n",
    "| Brown Corpus                          | Francis, Kucera       | 15 genres, 1.15M words, tagged,           |\n",
    "| CESS Treebanks                        | CLiC-UB               | categorized                               |\n",
    "| Chat-80 Data Files                    | Pereira &amp; Warren  | 1M words, tagged and parsed (Catalan,     |\n",
    "| CMU Pronouncing Dictionary            | CMU                   | Spanish)                                  |\n",
    "| CoNLL 2000 Chunking Data              | CoNLL                 | World Geographic Database                 |\n",
    "| CoNLL 2002 Named Entity               | CoNLL                 | 127k entries                              |\n",
    "| CoNLL 2007 Dependency Treebanks (sel) | CoNLL                 | 270k words, tagged and chunked            |\n",
    "| Dependency Treebank                   | Narad                 | 700k words, pos- and named-entity-tagged  |\n",
    "| FrameNet                              | Fillmore, Baker et al | (Dutch, Spanish)                          |\n",
    "| Floresta Treebank                     | Diana Santos et al    | 150k words, dependency parsed (Basque,    |\n",
    "| Gazetteer Lists                       | Various               | Catalan)                                  |\n",
    "| Genesis Corpus                        | Misc web sources      | Dependency parsed version of Penn         |\n",
    "| Gutenberg (selections)                | Hart, Newby, et al    | Treebank sample                           |\n",
    "| Inaugural Address Corpus              | CSpan                 | 10k word senses, 170k manually annotated  |\n",
    "| Indian POS-Tagged Corpus              | Kumaran et al         | sentences                                 |\n",
    "| MacMorpho Corpus                      | NILC, USP, Brazil     | 9k sentences, tagged and parsed           |\n",
    "| Movie Reviews                         | Pang, Lee             | (Portuguese)                              |\n",
    "| Names Corpus                          | Kantrowitz, Ross      | Lists of cities and countries             |\n",
    "| NIST 1999 Info Extr (selections)      | Garofolo              | 6 texts, 200k words, 6 languages          |\n",
    "| Nombank                               | Meyers                | 18 texts, 2M words                        |\n",
    "| NPS Chat Corpus                       | Forsyth, Martell      | US Presidential Inaugural Addresses       |\n",
    "| Open Multilingual WordNet             | Bond et al            | (1789-present)                            |\n",
    "| PP Attachment Corpus                  | Ratnaparkhi           | 60k words, tagged (Bangla, Hindi,         |\n",
    "| Proposition Bank                      | Palmer                | Marathi, Telugu)                          |\n",
    "| Question Classification               | Li, Roth              | 1M words, tagged (Brazilian Portuguese)   |\n",
    "| Reuters Corpus                        | Reuters               | 2k movie reviews with sentiment polarity  |\n",
    "| Roget's Thesaurus                     | Project Gutenberg     | classification                            |\n",
    "| RTE Textual Entailment                | Dagan et al           | 8k male and female names                  |\n",
    "| SEMCOR                                | Rus, Mihalcea         | 63k words, newswire and named-entity SGML |\n",
    "| Senseval 2 Corpus                     | Pedersen              | markup                                    |\n",
    "| SentiWordNet                          | Esuli, Sebastiani     | 115k propositions, 1400 noun frames       |\n",
    "| Shakespeare texts (selections)        | Bosak                 | 10k IM chat posts, POS-tagged and         |\n",
    "| State of the Union Corpus             | CSPAN                 | dialogue-act tagged                       |\n",
    "| Stopwords Corpus                      | Porter et al          | 15 languages, aligned to English WordNet  |\n",
    "| Swadesh Corpus                        | Wiktionary            | 28k prepositional phrases, tagged as noun |\n",
    "| Switchboard Corpus (selections)       | LDC                   | or verb modifiers                         |\n",
    "| Univ Decl of Human Rights             | United Nations        | 113k propositions, 3300 verb frames       |\n",
    "| Penn Treebank (selections)            | LDC                   | 6k questions, categorized                 |\n",
    "| TIMIT Corpus (selections)             | NIST/LDC              | 1.3M words, 10k news documents,           |\n",
    "| VerbNet 2.1                           | Palmer et al          | categorized                               |\n",
    "| Wordlist Corpus                       | OpenOffice.org et al  | 200k words, formatted text                |\n",
    "| WordNet 3.0 (English)                 | Miller, Fellbaum      | 8k sentence pairs, categorized            |"
   ]
  },
  {
   "cell_type": "markdown",
   "metadata": {},
   "source": [
    "## 1.7 Other Languages (UDHR)\n",
    "* Universal Decleration of Human Rights\n",
    "* 300 languages\n",
    "\n",
    "How to read this graph:\n",
    "* samples represents the max number of letters each text's words have \n",
    "* 10 for example would read \"the text has no word that is more than 10 characters long\"\n",
    "* 5 or fewer letters account for about 80% of Ibibio text, 60% of German text, and 25% of Inuktitut text"
   ]
  },
  {
   "cell_type": "code",
   "execution_count": 52,
   "metadata": {
    "scrolled": true
   },
   "outputs": [
    {
     "data": {
      "image/png": "[encoded data removed]",
      "text/plain": [
       "<Figure size 432x288 with 1 Axes>"
      ]
     },
     "metadata": {
      "needs_background": "light"
     },
     "output_type": "display_data"
    }
   ],
   "source": [
    "from nltk.corpus import udhr\n",
    "languages = ['Chickasaw', 'English', 'German_Deutsch', 'Greenlandic_Inuktikut', 'Hungarian_Magyar', 'Ibibio_Efik']\n",
    "cfd = nltk.ConditionalFreqDist((lang, len(word)) for lang in languages for word in udhr.words(lang + '-Latin1'))\n",
    "cfd.plot(cumulative=True)"
   ]
  },
  {
   "cell_type": "markdown",
   "metadata": {},
   "source": [
    "## 1.8 Text Corpus Structures\n",
    "\n",
    "![Text Structure](https://www.nltk.org/images/text-corpus-structure.png)\n",
    "\n",
    "### Corpus Commands\n",
    "\n",
    "| Example                   | Description                                               |\n",
    "|---------------------------|-----------------------------------------------------------|\n",
    "| fileids()                 | the files of the corpus                                   |\n",
    "| fileids([categories])     | the files of the corpus corresponding to these categories |\n",
    "| categories()              | the categories of the corpus                              |\n",
    "| categories([fileids])     | the categories of the corpus corresponding to these files |\n",
    "| raw()                     | the raw content of the corpus                             |\n",
    "| raw(fileids=[f1,f2,f3])   | the raw content of the specified files                    |\n",
    "| raw(categories=[c1,c2])   | the raw content of the specified categories               |\n",
    "| words()                   | the words of the whole corpus                             |\n",
    "| words(fileids=[f1,f2,f3]) | the words of the specified fileids                        |\n",
    "| words(categories=[c1,c2]) | the words of the specified categories                     |\n",
    "| sents()                   | the sentences of the whole corpus                         |\n",
    "| sents(fileids=[f1,f2,f3]) | the sentences of the specified fileids                    |\n",
    "| sents(categories=[c1,c2]) | the sentences of the specified categories                 |\n",
    "| abspath(fileid)           | the location of the given file on disk                    |\n",
    "| encoding(fileid)          | the encoding of the file (if known)                       |\n",
    "| open(fileid)              | open a stream for reading the given corpus file           |\n",
    "| root                      | if the path to the root of locally installed corpus       |\n",
    "| readme()                  | the contents of the README file of the corpus             |\n",
    "\n",
    "### Copying Tables from NLTK Book\n",
    "* copy tables from HTML source\n",
    "* paste into the [HTML to CSV editor](https://www.convertcsv.com/html-table-to-csv.htm)\n",
    "    * add *table* and */table* HTML tags at the beginning and end\n",
    "* put that converted CSV in a [Markdown Tables Generator](https://www.tablesgenerator.com/markdown_tables)"
   ]
  },
  {
   "cell_type": "markdown",
   "metadata": {},
   "source": [
    "# 2 - Conditional Frequency Distributions\n",
    "\n",
    "| Example                              | Description                                                      |\n",
    "|--------------------------------------|------------------------------------------------------------------|\n",
    "| cfdist = ConditionalFreqDist(pairs)  | create a conditional frequency distribution from a list of pairs |\n",
    "| cfdist.conditions()                  | the conditions                                                   |\n",
    "| cfdist[condition]                    | the frequency distribution for this condition                    |\n",
    "| cfdist[condition][sample]            | frequency for the given sample for this condition                |\n",
    "| cfdist.tabulate()                    | tabulate the conditional frequency distribution                  |\n",
    "| cfdist.tabulate(samples, conditions) | tabulation limited to the specified samples and conditions       |\n",
    "| cfdist.plot()                        | graphical plot of the conditional frequency distribution         |\n",
    "| cfdist.plot(samples, conditions)     | graphical plot limited to the specified samples and conditions   |\n",
    "| cfdist1 < cfdist2                    | test if samples in cfdist1 occur less frequently than in cfdist2 |"
   ]
  },
  {
   "cell_type": "markdown",
   "metadata": {},
   "source": [
    "## 2.4   Generating Random Text with Bigrams"
   ]
  },
  {
   "cell_type": "code",
   "execution_count": 8,
   "metadata": {},
   "outputs": [],
   "source": [
    "text = nltk.corpus.genesis.words('english-kjv.txt')\n",
    "bigrams = nltk.bigrams(text)"
   ]
  },
  {
   "cell_type": "code",
   "execution_count": 3,
   "metadata": {},
   "outputs": [],
   "source": [
    "def generate_model(cfdist, word, num=15):\n",
    "    for i in range(num):\n",
    "        print(word, end=' ')\n",
    "        word = cfdist[word].max()\n",
    "\n",
    "text = nltk.corpus.genesis.words('english-kjv.txt')\n",
    "bigrams = nltk.bigrams(text)\n",
    "cfd = nltk.ConditionalFreqDist(bigrams)"
   ]
  },
  {
   "cell_type": "code",
   "execution_count": 4,
   "metadata": {},
   "outputs": [
    {
     "data": {
      "text/plain": [
       "FreqDist({'creature': 7, 'thing': 4, 'substance': 2, 'soul': 1, '.': 1, ',': 1})"
      ]
     },
     "execution_count": 4,
     "metadata": {},
     "output_type": "execute_result"
    }
   ],
   "source": [
    "cfd['living']"
   ]
  },
  {
   "cell_type": "code",
   "execution_count": 5,
   "metadata": {},
   "outputs": [
    {
     "name": "stdout",
     "output_type": "stream",
     "text": [
      "living creature that he said , and the land of the land of the land "
     ]
    }
   ],
   "source": [
    "generate_model(cfd, 'living')"
   ]
  },
  {
   "cell_type": "markdown",
   "metadata": {},
   "source": [
    "# 4 - Lexical Resources"
   ]
  },
  {
   "cell_type": "markdown",
   "metadata": {},
   "source": [
    "# 5"
   ]
  },
  {
   "cell_type": "markdown",
   "metadata": {},
   "source": [
    "# 6"
   ]
  },
  {
   "cell_type": "markdown",
   "metadata": {},
   "source": [
    "# 7"
   ]
  },
  {
   "cell_type": "markdown",
   "metadata": {},
   "source": [
    "# 8 - Exercises"
   ]
  }
 ],
 "metadata": {
  "kernelspec": {
   "display_name": "Python 3",
   "language": "python",
   "name": "python3"
  },
  "language_info": {
   "codemirror_mode": {
    "name": "ipython",
    "version": 3
   },
   "file_extension": ".py",
   "mimetype": "text/x-python",
   "name": "python",
   "nbconvert_exporter": "python",
   "pygments_lexer": "ipython3",
   "version": "3.7.6"
  }
 },
 "nbformat": 4,
 "nbformat_minor": 2
}
