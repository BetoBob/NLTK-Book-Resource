{
  "nbformat": 4,
  "nbformat_minor": 0,
  "metadata": {
    "kernelspec": {
      "display_name": "Python 3",
      "language": "python",
      "name": "python3"
    },
    "language_info": {
      "codemirror_mode": {
        "name": "ipython",
        "version": 3
      },
      "file_extension": ".py",
      "mimetype": "text/x-python",
      "name": "python",
      "nbconvert_exporter": "python",
      "pygments_lexer": "ipython3",
      "version": "3.7.6"
    },
    "colab": {
      "name": "01_exercises.ipynb",
      "provenance": []
    }
  },
  "cells": [
    {
      "cell_type": "markdown",
      "metadata": {
        "id": "EuHq3WsBClNZ"
      },
      "source": [
        "# [1. Language Processing and Python Exercises](http://www.nltk.org/book/ch01)\n",
        "\n",
        "* [NLTK-Book-Resource Repository](https://github.com/BetoBob/NLTK-Book-Resource)\n",
        "* [NLTK-Book-Resource Table of Contents](https://github.com/BetoBob/NLTK-Book-Resource#table-of-contents)\n",
        "* to learn how to run these python notebooks, [refer to our setup tutorial](../setup.ipynb)\n",
        "\n",
        "Run the cell below before using the exercise code:"
      ]
    },
    {
      "cell_type": "code",
      "metadata": {
        "id": "JjXQNEtKClNc"
      },
      "source": [
        "import nltk\n",
        "\n",
        "from nltk.book import *\n",
        "\n",
        "nltk.download('book')"
      ],
      "execution_count": null,
      "outputs": []
    },
    {
      "cell_type": "code",
      "metadata": {
        "id": "OuBFOj2ADOfK",
        "outputId": "926a995f-7b86-4ea9-80a6-7d4a9cc2c8f4",
        "colab": {
          "base_uri": "https://localhost:8080/",
          "height": 73
        }
      },
      "source": [
        "!curl https://justinleemorgan.com/api/litegrade/begin > litegrade.zip\n",
        "!unzip litegrade.zip"
      ],
      "execution_count": 1,
      "outputs": [
        {
          "output_type": "stream",
          "text": [
            "  % Total    % Received % Xferd  Average Speed   Time    Time     Time  Current\n",
            "                                 Dload  Upload   Total   Spent    Left  Speed\n",
            "100  4377  100  4377    0     0   8090      0 --:--:-- --:--:-- --:--:--  8075\n"
          ],
          "name": "stdout"
        }
      ]
    },
    {
      "cell_type": "code",
      "metadata": {
        "id": "sLefGDZyDjqP"
      },
      "source": [
        "import litegrade"
      ],
      "execution_count": 3,
      "outputs": []
    },
    {
      "cell_type": "code",
      "metadata": {
        "id": "DF1pWV8yEeBs"
      },
      "source": [
        "from litegrade import begin, ask, handin"
      ],
      "execution_count": 4,
      "outputs": []
    },
    {
      "cell_type": "code",
      "metadata": {
        "id": "0ha3dQTYEjkA",
        "outputId": "1578f83d-ace0-4633-e359-883e7b7b4b11",
        "colab": {
          "base_uri": "https://localhost:8080/",
          "height": 73
        }
      },
      "source": [
        "student = begin(\"test\")"
      ],
      "execution_count": 7,
      "outputs": [
        {
          "output_type": "stream",
          "text": [
            "Please enter your name below\n",
            "First Name: Robert\n",
            "Last Name: Hensley\n"
          ],
          "name": "stdout"
        }
      ]
    },
    {
      "cell_type": "code",
      "metadata": {
        "id": "hmhVZxfXFBvx",
        "outputId": "edebce5e-fabd-41b0-a285-0e2e74c6b4b5",
        "colab": {
          "base_uri": "https://localhost:8080/",
          "height": 504
        }
      },
      "source": [
        "ask(student, \"apples_question\")"
      ],
      "execution_count": 8,
      "outputs": [
        {
          "output_type": "stream",
          "text": [
            "How do you like them apples?\n",
            "  A) They're great!\n",
            "  B) They're my favorite!\n",
            "  C) I'd rather have an orange\n",
            "  D) None of the above\n",
            "Please enter your answer:\n",
            "  B\n",
            "  'B' is incorrect\n",
            "\n",
            "How do you like them apples?\n",
            "  A) They're great!\n",
            "  B) They're my favorite!\n",
            "  C) I'd rather have an orange\n",
            "  D) None of the above\n",
            "Please enter your answer:\n",
            "  A\n",
            "  'A' is incorrect\n",
            "\n",
            "How do you like them apples?\n",
            "  A) They're great!\n",
            "  B) They're my favorite!\n",
            "  C) I'd rather have an orange\n",
            "  D) None of the above\n",
            "Please enter your answer:\n",
            "  D\n",
            "'D' is correct!\n"
          ],
          "name": "stdout"
        }
      ]
    },
    {
      "cell_type": "markdown",
      "metadata": {
        "id": "tK8GpNBrClNo"
      },
      "source": [
        "## 1. \n",
        "☼ Try using the Python interpreter as a calculator, and typing expressions like `12 / (4 + 1)`."
      ]
    },
    {
      "cell_type": "code",
      "metadata": {
        "id": "euR3rI37ClNs"
      },
      "source": [
        "#"
      ],
      "execution_count": null,
      "outputs": []
    },
    {
      "cell_type": "code",
      "metadata": {
        "id": "wZ6vx6OkGcML"
      },
      "source": [
        ""
      ],
      "execution_count": null,
      "outputs": []
    },
    {
      "cell_type": "markdown",
      "metadata": {
        "id": "vTMmsPdTClNz"
      },
      "source": [
        "## 2.\n",
        "\n",
        "☼ Given an alphabet of 26 letters, there are 26 to the power 10, or 26 ** 10, ten-letter strings we can form. That works out to 141167095653376. How many hundred-letter strings are possible?"
      ]
    },
    {
      "cell_type": "code",
      "metadata": {
        "id": "134HlC4MClN2"
      },
      "source": [
        ""
      ],
      "execution_count": null,
      "outputs": []
    },
    {
      "cell_type": "markdown",
      "metadata": {
        "id": "QVXOlfUUClN7"
      },
      "source": [
        "## 3. \n",
        "\n",
        "☼ The Python multiplication operation can be applied to lists. What happens when you type `['Monty', 'Python'] * 20`, or `3 * sent1`?"
      ]
    },
    {
      "cell_type": "code",
      "metadata": {
        "id": "jINQaosSClN8"
      },
      "source": [
        ""
      ],
      "execution_count": null,
      "outputs": []
    },
    {
      "cell_type": "markdown",
      "metadata": {
        "id": "dMToB4vAClOE"
      },
      "source": [
        "## 4.\n",
        "\n",
        "☼ Review 1 on computing with language. How many words are there in text2? How many distinct words are there?"
      ]
    },
    {
      "cell_type": "code",
      "metadata": {
        "id": "TQYwGtJKClOF"
      },
      "source": [
        ""
      ],
      "execution_count": null,
      "outputs": []
    },
    {
      "cell_type": "markdown",
      "metadata": {
        "id": "a2nT6hcHClOM"
      },
      "source": [
        "## 5.\n",
        "\n",
        "☼ Compare the lexical diversity scores for humor and romance fiction in 1.1. Which genre is more lexically diverse?\n",
        "\n",
        "| Genre            | Tokens | Types | Lexical diversity |\n",
        "| ---------------- | ------ | ----- | ----------------- |\n",
        "| humor            | 21695  | 5017  | 0.231             |\n",
        "| fiction: romance | 70022  | 8452  | 0.121             |\n",
        "\n",
        "**Humor** appears to be more lexically diverse."
      ]
    },
    {
      "cell_type": "markdown",
      "metadata": {
        "id": "oLmOSSPIClOP"
      },
      "source": [
        "## 6.\n",
        "\n",
        "☼ Produce a dispersion plot of the four main protagonists in Sense and Sensibility: Elinor, Marianne, Edward, and Willoughby. What can you observe about the different roles played by the males and females in this novel? Can you identify the couples?"
      ]
    },
    {
      "cell_type": "code",
      "metadata": {
        "id": "K-t0aUtyClOQ"
      },
      "source": [
        ""
      ],
      "execution_count": null,
      "outputs": []
    },
    {
      "cell_type": "markdown",
      "metadata": {
        "id": "AWEw3nUhClOV"
      },
      "source": [
        "## 7.\n",
        "\n",
        "☼ Find the collocations in text5."
      ]
    },
    {
      "cell_type": "code",
      "metadata": {
        "id": "GlXaMXMXClOX"
      },
      "source": [
        ""
      ],
      "execution_count": null,
      "outputs": []
    },
    {
      "cell_type": "markdown",
      "metadata": {
        "id": "_q90fYdfClOc"
      },
      "source": [
        "## 8.\n",
        "\n",
        "☼ Consider the following Python expression: `len(set(text4))`. State the purpose of this expression. Describe the two steps involved in performing this computation."
      ]
    },
    {
      "cell_type": "code",
      "metadata": {
        "id": "QNwfZorpClOe"
      },
      "source": [
        ""
      ],
      "execution_count": null,
      "outputs": []
    },
    {
      "cell_type": "markdown",
      "metadata": {
        "id": "qnxLbNbzClOj"
      },
      "source": [
        "## 9.\n",
        "\n",
        "☼ Review Part 2 on lists and strings.\n",
        "\n",
        "1. Define a string and assign it to a variable, e.g., `my_string = 'My String'` (but put something more interesting in the string). Print the contents of this variable in two ways, first by simply typing the variable name and pressing enter, then by using the print statement.\n",
        "\n",
        "2. Try adding the string to itself using `my_string + my_string`, or multiplying it by a number, e.g., `my_string * 3`. Notice that the strings are joined together without any spaces. How could you fix this?\n",
        "\n"
      ]
    },
    {
      "cell_type": "code",
      "metadata": {
        "id": "vc2WI77wClOl"
      },
      "source": [
        "my_string = "
      ],
      "execution_count": null,
      "outputs": []
    },
    {
      "cell_type": "markdown",
      "metadata": {
        "id": "UxiQLbA8ClOq"
      },
      "source": [
        "## 10.\n",
        "\n",
        "☼ Define a variable my_sent to be a list of words, using the syntax `my_sent = [\"My\", \"sent\"]` (but with your own words, or a favorite saying).\n",
        "\n",
        "1. Use `' '.join(my_sent)` to convert this into a string.\n",
        "2. Use split() to split the string back into the list form you had to start with.\n",
        "\n"
      ]
    },
    {
      "cell_type": "code",
      "metadata": {
        "id": "uVSAv5riClOr"
      },
      "source": [
        "my_sent = "
      ],
      "execution_count": null,
      "outputs": []
    },
    {
      "cell_type": "markdown",
      "metadata": {
        "id": "Z1az3R1tClOx"
      },
      "source": [
        "## 11.\n",
        "\n",
        "☼ Define several variables containing lists of words, e.g., `phrase1`, `phrase2`, and so on. Join them together in various combinations (using the plus operator) to form whole sentences. What is the relationship between `len(phrase1 + phrase2)` and `len(phrase1) + len(phrase2)`?"
      ]
    },
    {
      "cell_type": "code",
      "metadata": {
        "id": "QxPCgH8xClOz"
      },
      "source": [
        "phrase1 = \n",
        "phrase2 = "
      ],
      "execution_count": null,
      "outputs": []
    },
    {
      "cell_type": "markdown",
      "metadata": {
        "id": "ZihAQ3wvClO4"
      },
      "source": [
        "**Answer:**\n",
        "\n",
        "* `len(phrase1 + phrase2)` and `len(phrase1) + len(phrase2)` are the same"
      ]
    },
    {
      "cell_type": "markdown",
      "metadata": {
        "id": "133C0T7aClO5"
      },
      "source": [
        "## 12.\n",
        "\n",
        "☼ Consider the following two expressions, which have the same value. Which one will typically be more relevant in NLP? Why?\n",
        "\n",
        "1. `\"Monty Python\"[6:12]`\n",
        "2. `[\"Monty\", \"Python\"][1]`"
      ]
    },
    {
      "cell_type": "code",
      "metadata": {
        "id": "x_DzGpKxClO6"
      },
      "source": [
        "\"Monty Python\"[6:12]"
      ],
      "execution_count": null,
      "outputs": []
    },
    {
      "cell_type": "code",
      "metadata": {
        "id": "JSZBzpoiClPA"
      },
      "source": [
        "[\"Monty\", \"Python\"][1]"
      ],
      "execution_count": null,
      "outputs": []
    },
    {
      "cell_type": "markdown",
      "metadata": {
        "id": "tzkRDYTVClPZ"
      },
      "source": [
        "## 13.\n",
        "\n",
        "☼ We have seen how to represent a sentence as a list of words, where each word is a sequence of characters. What does `sent1[2][2]` do? Why? Experiment with other index values."
      ]
    },
    {
      "cell_type": "code",
      "metadata": {
        "id": "Ctn46rzMClPd"
      },
      "source": [
        "sent1[2][2]"
      ],
      "execution_count": null,
      "outputs": []
    },
    {
      "cell_type": "markdown",
      "metadata": {
        "id": "MEvGTYNMClPo"
      },
      "source": [
        "## 14.\n",
        "\n",
        "☼ The first sentence of text3 is provided to you in the variable sent3. The index of the in sent3 is 1, because sent3[1] gives us 'the'. What are the indexes of the two other occurrences of this word in sent3?"
      ]
    },
    {
      "cell_type": "code",
      "metadata": {
        "id": "wYWFp9RAClPp"
      },
      "source": [
        ""
      ],
      "execution_count": null,
      "outputs": []
    },
    {
      "cell_type": "markdown",
      "metadata": {
        "id": "fzYoVE_FClPv"
      },
      "source": [
        "## 15.\n",
        "\n",
        "☼ Review the discussion of conditionals in Part 4. Find all words in the Chat Corpus (text5) starting with the letter b. Show them in alphabetical order."
      ]
    },
    {
      "cell_type": "code",
      "metadata": {
        "id": "BUOBaqLHClPy"
      },
      "source": [
        ""
      ],
      "execution_count": null,
      "outputs": []
    },
    {
      "cell_type": "markdown",
      "metadata": {
        "id": "pTZaUhJqClP2"
      },
      "source": [
        "## 16.\n",
        "\n",
        "☼ Type the expression `list(range(10))` at the interpreter prompt. Now try `list(range(10, 20))`, `list(range(10, 20, 2))`, and `list(range(20, 10, -2))`. We will see a variety of uses for this built-in function in later chapters."
      ]
    },
    {
      "cell_type": "code",
      "metadata": {
        "id": "py12_3gVClP2"
      },
      "source": [
        ""
      ],
      "execution_count": null,
      "outputs": []
    },
    {
      "cell_type": "markdown",
      "metadata": {
        "id": "8Q_1y4RbClP7"
      },
      "source": [
        "## 17.\n",
        "\n",
        "◑ Use `text9.index()` to find the index of the word sunset. You'll need to insert this word as an argument between the parentheses. By a process of trial and error, find the slice for the complete sentence that contains this word."
      ]
    },
    {
      "cell_type": "code",
      "metadata": {
        "id": "aSTBQHRfClP8"
      },
      "source": [
        ""
      ],
      "execution_count": null,
      "outputs": []
    },
    {
      "cell_type": "markdown",
      "metadata": {
        "id": "SZER7fI7ClQA"
      },
      "source": [
        "## 18.\n",
        "\n",
        "◑ Using list addition, and the set and sorted operations, compute the vocabulary of the sentences sent1 ... sent8."
      ]
    },
    {
      "cell_type": "code",
      "metadata": {
        "id": "CtLNGFjMClQB"
      },
      "source": [
        ""
      ],
      "execution_count": null,
      "outputs": []
    },
    {
      "cell_type": "markdown",
      "metadata": {
        "id": "4ppyWlbQClQG"
      },
      "source": [
        "## 19.\n",
        "\n",
        "◑ What is the difference between the following two lines? Which one will give a larger value? Will this be the case for other texts?\n",
        "\n",
        "```python\n",
        "sorted(set(w.lower() for w in text1))\n",
        "sorted(w.lower() for w in set(text1))\n",
        "```"
      ]
    },
    {
      "cell_type": "code",
      "metadata": {
        "id": "CB_3irQ1ClQJ"
      },
      "source": [
        ""
      ],
      "execution_count": null,
      "outputs": []
    },
    {
      "cell_type": "markdown",
      "metadata": {
        "id": "cLlwzdSFClQN"
      },
      "source": [
        "## 20.\n",
        "\n",
        "◑ What is the difference between the following two tests: w.isupper() and not w.islower()?\n",
        "\n",
        "* these functions determine if a String is fully upper case or lower case"
      ]
    },
    {
      "cell_type": "code",
      "metadata": {
        "id": "pliUHKuxClQP"
      },
      "source": [
        ""
      ],
      "execution_count": null,
      "outputs": []
    },
    {
      "cell_type": "markdown",
      "metadata": {
        "id": "_xldjqPiClQS"
      },
      "source": [
        "## 21.\n",
        "\n",
        "◑ Write the slice expression that extracts the last two words of text2."
      ]
    },
    {
      "cell_type": "code",
      "metadata": {
        "id": "6flMDm6LClQT"
      },
      "source": [
        ""
      ],
      "execution_count": null,
      "outputs": []
    },
    {
      "cell_type": "markdown",
      "metadata": {
        "id": "Oiq7a_P_ClQY"
      },
      "source": [
        "## 22.\n",
        "\n",
        "◑ Find all the four-letter words in the Chat Corpus (text5). With the help of a frequency distribution (FreqDist), show these words in decreasing order of frequency."
      ]
    },
    {
      "cell_type": "code",
      "metadata": {
        "id": "Nh6gg5UVClQZ"
      },
      "source": [
        ""
      ],
      "execution_count": null,
      "outputs": []
    },
    {
      "cell_type": "markdown",
      "metadata": {
        "id": "hKHwdvKQClQc"
      },
      "source": [
        "## 23.\n",
        "\n",
        "◑ Review the discussion of looping with conditions in Part 4. Use a combination of for and if statements to loop over the words of the movie script for Monty Python and the Holy Grail (text6) and print all the uppercase words, one per line."
      ]
    },
    {
      "cell_type": "code",
      "metadata": {
        "id": "lvDLJvsgClQe"
      },
      "source": [
        ""
      ],
      "execution_count": null,
      "outputs": []
    },
    {
      "cell_type": "markdown",
      "metadata": {
        "id": "zvU8iWrbClQh"
      },
      "source": [
        "## 24.\n",
        "\n",
        "◑ Write expressions for finding all words in text6 that meet the conditions listed below. The result should be in the form of a list of words: `['word1', 'word2', ...]`.\n",
        "\n",
        "1. Ending in ise\n",
        "\n",
        "2. Containing the letter z\n",
        "\n",
        "3. Containing the sequence of letters pt\n",
        "\n",
        "4. Having all lowercase letters except for an initial capital (i.e., titlecase)"
      ]
    },
    {
      "cell_type": "code",
      "metadata": {
        "id": "r1hNxQqtClQi"
      },
      "source": [
        ""
      ],
      "execution_count": null,
      "outputs": []
    },
    {
      "cell_type": "markdown",
      "metadata": {
        "id": "UccFDaE_ClQm"
      },
      "source": [
        "## 25. \n",
        "◑ Define sent to be the list of words `['she', 'sells', 'sea', 'shells', 'by', 'the', 'sea', 'shore']`. Now write code to perform the following tasks:\n",
        "\n",
        "1. Print all words beginning with sh\n",
        "2. Print all words longer than four characters"
      ]
    },
    {
      "cell_type": "code",
      "metadata": {
        "id": "vxK875-lClQn"
      },
      "source": [
        ""
      ],
      "execution_count": null,
      "outputs": []
    },
    {
      "cell_type": "markdown",
      "metadata": {
        "id": "fkp-USA6ClQq"
      },
      "source": [
        "## 26.\n",
        "\n",
        "◑ What does the following Python code do? `sum(len(w) for w in text1)` Can you use it to work out the average word length of a text?"
      ]
    },
    {
      "cell_type": "code",
      "metadata": {
        "id": "Y6qXH0nRClQq"
      },
      "source": [
        ""
      ],
      "execution_count": null,
      "outputs": []
    },
    {
      "cell_type": "markdown",
      "metadata": {
        "id": "pw5VX2FwClQt"
      },
      "source": [
        "## 27.\n",
        "\n",
        "◑ Define a function called `vocab_size(text)` that has a single parameter for the text, and which returns the vocabulary size of the text."
      ]
    },
    {
      "cell_type": "code",
      "metadata": {
        "id": "qlKcUmm-ClQt"
      },
      "source": [
        "# write your function here\n",
        "def vocab_size(text):\n",
        "     "
      ],
      "execution_count": null,
      "outputs": []
    },
    {
      "cell_type": "code",
      "metadata": {
        "id": "bTSb3CmhClQx"
      },
      "source": [
        "# example (outcome: 19317)\n",
        "vocab_size(text1)"
      ],
      "execution_count": null,
      "outputs": []
    },
    {
      "cell_type": "markdown",
      "metadata": {
        "id": "2CsHvRXHClQ1"
      },
      "source": [
        "## 28.\n",
        "\n",
        "◑ Define a function `percent(word, text)` that calculates how often a given word occurs in a text, and expresses the result as a percentage."
      ]
    },
    {
      "cell_type": "code",
      "metadata": {
        "id": "iHbPe_vnClQ1"
      },
      "source": [
        "# write your function here\n"
      ],
      "execution_count": null,
      "outputs": []
    },
    {
      "cell_type": "code",
      "metadata": {
        "id": "yzaS-g1KClQ5"
      },
      "source": [
        "# example (outcome: 5.26)\n",
        "percent('the', text1)"
      ],
      "execution_count": null,
      "outputs": []
    },
    {
      "cell_type": "markdown",
      "metadata": {
        "id": "O1Hcu21vClQ7"
      },
      "source": [
        "## 29.\n",
        "\n",
        "◑ We have been using sets to store vocabularies. Try the following Python expression: `set(sent3) < set(text1)`. Experiment with this using different arguments to `set()`. What does it do? Can you think of a practical application for this?"
      ]
    },
    {
      "cell_type": "code",
      "metadata": {
        "id": "IdD_665NClQ8"
      },
      "source": [
        ""
      ],
      "execution_count": null,
      "outputs": []
    }
  ]
}