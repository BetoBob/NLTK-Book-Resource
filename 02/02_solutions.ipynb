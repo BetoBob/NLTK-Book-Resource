{
 "cells": [
  {
   "cell_type": "markdown",
   "metadata": {},
   "source": [
    "# [2. Accessing Text Corpora and Lexical Resources](https://www.nltk.org/book/ch02.html)\n",
    "\n",
    "* [NLTK-Book-Resource Repository](https://github.com/BetoBob/NLTK-Book-Resource)\n",
    "* [NLTK-Book-Resource Table of Contents](https://github.com/BetoBob/NLTK-Book-Resource#table-of-contents)\n",
    "\n",
    "Run the cell below before running the examples."
   ]
  },
  {
   "cell_type": "code",
   "execution_count": 71,
   "metadata": {},
   "outputs": [],
   "source": [
    "import nltk"
   ]
  },
  {
   "cell_type": "markdown",
   "metadata": {},
   "source": [
    "## 1.\n",
    "\n",
    "☼ Create a variable `phrase` containing a list of words. Review the operations described in the previous chapter, including addition, multiplication, indexing, slicing, and sorting."
   ]
  },
  {
   "cell_type": "code",
   "execution_count": 6,
   "metadata": {},
   "outputs": [],
   "source": [
    "phrase = [\"My\", \"phrase\", \"is\", \"this\"]"
   ]
  },
  {
   "cell_type": "code",
   "execution_count": 8,
   "metadata": {},
   "outputs": [
    {
     "data": {
      "text/plain": [
       "['My', 'phrase', 'is', 'this', 'one']"
      ]
     },
     "execution_count": 8,
     "metadata": {},
     "output_type": "execute_result"
    }
   ],
   "source": [
    "# addition\n",
    "phrase + [\"one\"]"
   ]
  },
  {
   "cell_type": "code",
   "execution_count": 9,
   "metadata": {},
   "outputs": [
    {
     "data": {
      "text/plain": [
       "['My', 'phrase', 'is', 'this', 'My', 'phrase', 'is', 'this']"
      ]
     },
     "execution_count": 9,
     "metadata": {},
     "output_type": "execute_result"
    }
   ],
   "source": [
    "# multiplication\n",
    "phrase * 2"
   ]
  },
  {
   "cell_type": "code",
   "execution_count": null,
   "metadata": {},
   "outputs": [],
   "source": [
    "# indexing\n",
    "phrase[1]"
   ]
  },
  {
   "cell_type": "code",
   "execution_count": 13,
   "metadata": {},
   "outputs": [
    {
     "data": {
      "text/plain": [
       "['is', 'this']"
      ]
     },
     "execution_count": 13,
     "metadata": {},
     "output_type": "execute_result"
    }
   ],
   "source": [
    "# slicing\n",
    "phrase[-2:]"
   ]
  },
  {
   "cell_type": "code",
   "execution_count": 18,
   "metadata": {},
   "outputs": [
    {
     "data": {
      "text/plain": [
       "['My', 'is', 'phrase', 'this']"
      ]
     },
     "execution_count": 18,
     "metadata": {},
     "output_type": "execute_result"
    }
   ],
   "source": [
    "# sorting\n",
    "sorted(phrase)"
   ]
  },
  {
   "cell_type": "markdown",
   "metadata": {},
   "source": [
    "## 2.\n",
    "\n",
    "☼ Use the corpus module to explore `austen-persuasion.txt`. How many word tokens does this book have? How many word types?\n",
    "\n",
    "* refer to section 1.2 for exploring Gutenberg corpus\n",
    "* refer to Chapter 1, section 1.4 for **word types**"
   ]
  },
  {
   "cell_type": "code",
   "execution_count": 3,
   "metadata": {},
   "outputs": [],
   "source": [
    "from nltk.corpus import gutenberg\n",
    "\n",
    "ap = gutenberg.words('austen-persuasion.txt')"
   ]
  },
  {
   "cell_type": "code",
   "execution_count": 6,
   "metadata": {},
   "outputs": [
    {
     "data": {
      "text/plain": [
       "98171"
      ]
     },
     "execution_count": 6,
     "metadata": {},
     "output_type": "execute_result"
    }
   ],
   "source": [
    "# number of tokens\n",
    "\n",
    "len(ap)"
   ]
  },
  {
   "cell_type": "code",
   "execution_count": 7,
   "metadata": {},
   "outputs": [
    {
     "data": {
      "text/plain": [
       "6132"
      ]
     },
     "execution_count": 7,
     "metadata": {},
     "output_type": "execute_result"
    }
   ],
   "source": [
    "# number of word types (unique words)\n",
    "\n",
    "len(set(ap))"
   ]
  },
  {
   "cell_type": "markdown",
   "metadata": {},
   "source": [
    "## 3.\n",
    "\n",
    "☼ Use the Brown corpus reader `nltk.corpus.brown.words()` or the Web text corpus reader `nltk.corpus.webtext.words()` to access some sample text in two different genres."
   ]
  },
  {
   "cell_type": "code",
   "execution_count": 12,
   "metadata": {},
   "outputs": [
    {
     "data": {
      "text/plain": [
       "['The', 'Fulton', 'County', 'Grand', 'Jury', 'said', ...]"
      ]
     },
     "execution_count": 12,
     "metadata": {},
     "output_type": "execute_result"
    }
   ],
   "source": [
    "nltk.corpus.brown.words()"
   ]
  },
  {
   "cell_type": "code",
   "execution_count": 5,
   "metadata": {},
   "outputs": [
    {
     "data": {
      "text/plain": [
       "['Cookie', 'Manager', ':', '\"', 'Don', \"'\", 't', ...]"
      ]
     },
     "execution_count": 5,
     "metadata": {},
     "output_type": "execute_result"
    }
   ],
   "source": [
    "nltk.corpus.webtext.words()"
   ]
  },
  {
   "cell_type": "markdown",
   "metadata": {},
   "source": [
    "## 4\n",
    "\n",
    "☼ Read in the texts of the *State of the Union addresses*, using the `state_union` corpus reader. Count occurrences of 'men', 'women', and 'people' in each document. What has happened to the usage of these words over time?"
   ]
  },
  {
   "cell_type": "markdown",
   "metadata": {},
   "source": [
    "### Solution\n",
    "\n",
    "This problem requires creating a **cumulative frequency diagram** (refer to *section 2*).\n",
    "\n",
    "For this solution, I used `word.lower()` to account for occurances of upper-case letters at the beginning of some words."
   ]
  },
  {
   "cell_type": "code",
   "execution_count": 33,
   "metadata": {},
   "outputs": [],
   "source": [
    "from nltk.corpus import state_union\n",
    "\n",
    "cfd = nltk.ConditionalFreqDist(\n",
    "    (docu, word.lower())\n",
    "    for docu in state_union.fileids()\n",
    "    for word in state_union.words(fileids=[docu]) if word.lower() in [\"men\", \"women\", \"people\"]\n",
    ")"
   ]
  },
  {
   "cell_type": "code",
   "execution_count": 25,
   "metadata": {},
   "outputs": [
    {
     "name": "stdout",
     "output_type": "stream",
     "text": [
      "                       men people  women \n",
      "    1945-Truman.txt      2     10      2 \n",
      "    1946-Truman.txt     12     49      7 \n",
      "    1947-Truman.txt      7     12      2 \n",
      "    1948-Truman.txt      5     22      1 \n",
      "    1949-Truman.txt      2     15      1 \n",
      "    1950-Truman.txt      6     15      2 \n",
      "    1951-Truman.txt      8     10      2 \n",
      "1953-Eisenhower.txt      3     17      0 \n",
      "1954-Eisenhower.txt      2     15      0 \n",
      "1955-Eisenhower.txt      4     26      0 \n",
      "1956-Eisenhower.txt      2     30      2 \n",
      "1957-Eisenhower.txt      5     11      2 \n",
      "1958-Eisenhower.txt      2     19      1 \n",
      "1959-Eisenhower.txt      4     11      1 \n",
      "1960-Eisenhower.txt      2     10      0 \n",
      "   1961-Kennedy.txt      6     10      0 \n",
      "   1962-Kennedy.txt      6     10      2 \n",
      "   1963-Johnson.txt      0      3      0 \n",
      "   1963-Kennedy.txt      8     12      5 \n",
      "   1964-Johnson.txt      3      3      1 \n",
      " 1965-Johnson-1.txt      7     16      0 \n",
      " 1965-Johnson-2.txt     12     14      3 \n",
      "   1966-Johnson.txt     12     35      1 \n",
      "   1967-Johnson.txt     11     25      1 \n",
      "   1968-Johnson.txt      4     17      0 \n",
      "   1969-Johnson.txt      5      6      2 \n",
      "     1970-Nixon.txt      2     23      0 \n",
      "     1971-Nixon.txt      1     32      0 \n",
      "     1972-Nixon.txt      1      7      0 \n",
      "     1973-Nixon.txt      1      9      0 \n",
      "     1974-Nixon.txt      0     20      0 \n",
      "      1975-Ford.txt      0     14      0 \n",
      "      1976-Ford.txt      3     18      1 \n",
      "      1977-Ford.txt      2     19      1 \n",
      "    1978-Carter.txt      0     26      1 \n",
      "    1979-Carter.txt      0     15      1 \n",
      "    1980-Carter.txt      1     12      2 \n",
      "    1981-Reagan.txt      1     11      1 \n",
      "    1982-Reagan.txt      1     17      2 \n",
      "    1983-Reagan.txt      3     19      7 \n",
      "    1984-Reagan.txt      3     27      5 \n",
      "    1985-Reagan.txt      1     12      1 \n",
      "    1986-Reagan.txt      2     14      2 \n",
      "    1987-Reagan.txt      1     24      0 \n",
      "    1988-Reagan.txt      1     17      0 \n",
      "      1989-Bush.txt      2     13      3 \n",
      "      1990-Bush.txt      3      9      2 \n",
      "    1991-Bush-1.txt      2     14      2 \n",
      "    1991-Bush-2.txt      7     13      7 \n",
      "      1992-Bush.txt      4     27      4 \n",
      "   1993-Clinton.txt      1     45      2 \n",
      "   1994-Clinton.txt      1     66      1 \n",
      "   1995-Clinton.txt      1     73      3 \n",
      "   1996-Clinton.txt      2     43      3 \n",
      "   1997-Clinton.txt      1     31      2 \n",
      "   1998-Clinton.txt      2     22      2 \n",
      "   1999-Clinton.txt      2     22      3 \n",
      "   2000-Clinton.txt      5     41      7 \n",
      "  2001-GWBush-1.txt      3     15      3 \n",
      "  2001-GWBush-2.txt      1     12      3 \n",
      "    2002-GWBush.txt      3     14      6 \n",
      "    2003-GWBush.txt      6     33      4 \n",
      "    2004-GWBush.txt      7     21      8 \n",
      "    2005-GWBush.txt      8     18     11 \n",
      "    2006-GWBush.txt      7     22      7 \n"
     ]
    }
   ],
   "source": [
    "cfd.tabulate()"
   ]
  },
  {
   "cell_type": "markdown",
   "metadata": {},
   "source": [
    "### Advanced Solution\n",
    "\n",
    "While `tabulate()` shows the general counts of each word, a graph would be a better way to visualize the change of word usage over time. Using `pandas` dataframes and some regular expressions (`re` library), a new table can be created with the speech year as the table's index rather than the name of the file. This can be graphed in order of year using `matplotlib`. \n",
    "* [Pandas Tutorials](https://pandas.pydata.org/pandas-docs/stable/getting_started/tutorials.html)"
   ]
  },
  {
   "cell_type": "code",
   "execution_count": 71,
   "metadata": {},
   "outputs": [
    {
     "data": {
      "text/html": [
       "<div>\n",
       "<style scoped>\n",
       "    .dataframe tbody tr th:only-of-type {\n",
       "        vertical-align: middle;\n",
       "    }\n",
       "\n",
       "    .dataframe tbody tr th {\n",
       "        vertical-align: top;\n",
       "    }\n",
       "\n",
       "    .dataframe thead th {\n",
       "        text-align: right;\n",
       "    }\n",
       "</style>\n",
       "<table border=\"1\" class=\"dataframe\">\n",
       "  <thead>\n",
       "    <tr style=\"text-align: right;\">\n",
       "      <th></th>\n",
       "      <th>speech</th>\n",
       "      <th>people</th>\n",
       "      <th>men</th>\n",
       "      <th>women</th>\n",
       "    </tr>\n",
       "  </thead>\n",
       "  <tbody>\n",
       "    <tr>\n",
       "      <th>0</th>\n",
       "      <td>1945</td>\n",
       "      <td>10</td>\n",
       "      <td>2.0</td>\n",
       "      <td>2.0</td>\n",
       "    </tr>\n",
       "    <tr>\n",
       "      <th>1</th>\n",
       "      <td>1946</td>\n",
       "      <td>49</td>\n",
       "      <td>12.0</td>\n",
       "      <td>7.0</td>\n",
       "    </tr>\n",
       "    <tr>\n",
       "      <th>2</th>\n",
       "      <td>1947</td>\n",
       "      <td>12</td>\n",
       "      <td>7.0</td>\n",
       "      <td>2.0</td>\n",
       "    </tr>\n",
       "    <tr>\n",
       "      <th>3</th>\n",
       "      <td>1948</td>\n",
       "      <td>22</td>\n",
       "      <td>5.0</td>\n",
       "      <td>1.0</td>\n",
       "    </tr>\n",
       "    <tr>\n",
       "      <th>4</th>\n",
       "      <td>1949</td>\n",
       "      <td>15</td>\n",
       "      <td>2.0</td>\n",
       "      <td>1.0</td>\n",
       "    </tr>\n",
       "    <tr>\n",
       "      <th>...</th>\n",
       "      <td>...</td>\n",
       "      <td>...</td>\n",
       "      <td>...</td>\n",
       "      <td>...</td>\n",
       "    </tr>\n",
       "    <tr>\n",
       "      <th>60</th>\n",
       "      <td>2002</td>\n",
       "      <td>14</td>\n",
       "      <td>3.0</td>\n",
       "      <td>6.0</td>\n",
       "    </tr>\n",
       "    <tr>\n",
       "      <th>61</th>\n",
       "      <td>2003</td>\n",
       "      <td>33</td>\n",
       "      <td>6.0</td>\n",
       "      <td>4.0</td>\n",
       "    </tr>\n",
       "    <tr>\n",
       "      <th>62</th>\n",
       "      <td>2004</td>\n",
       "      <td>21</td>\n",
       "      <td>7.0</td>\n",
       "      <td>8.0</td>\n",
       "    </tr>\n",
       "    <tr>\n",
       "      <th>63</th>\n",
       "      <td>2005</td>\n",
       "      <td>18</td>\n",
       "      <td>8.0</td>\n",
       "      <td>11.0</td>\n",
       "    </tr>\n",
       "    <tr>\n",
       "      <th>64</th>\n",
       "      <td>2006</td>\n",
       "      <td>22</td>\n",
       "      <td>7.0</td>\n",
       "      <td>7.0</td>\n",
       "    </tr>\n",
       "  </tbody>\n",
       "</table>\n",
       "<p>65 rows × 4 columns</p>\n",
       "</div>"
      ],
      "text/plain": [
       "    speech  people   men  women\n",
       "0     1945      10   2.0    2.0\n",
       "1     1946      49  12.0    7.0\n",
       "2     1947      12   7.0    2.0\n",
       "3     1948      22   5.0    1.0\n",
       "4     1949      15   2.0    1.0\n",
       "..     ...     ...   ...    ...\n",
       "60    2002      14   3.0    6.0\n",
       "61    2003      33   6.0    4.0\n",
       "62    2004      21   7.0    8.0\n",
       "63    2005      18   8.0   11.0\n",
       "64    2006      22   7.0    7.0\n",
       "\n",
       "[65 rows x 4 columns]"
      ]
     },
     "execution_count": 71,
     "metadata": {},
     "output_type": "execute_result"
    }
   ],
   "source": [
    "import pandas as pd\n",
    "import re\n",
    "\n",
    "cfd_df = pd.DataFrame.from_dict(cfd, orient='index').rename_axis('speech').reset_index()\n",
    "cfd_df['speech'] = cfd_df['speech'].apply(lambda x: int(re.search(r'\\d{4}', x).group()))\n",
    "\n",
    "cfd_df.set_index('speech')"
   ]
  },
  {
   "cell_type": "code",
   "execution_count": 77,
   "metadata": {},
   "outputs": [
    {
     "data": {
      "text/plain": [
       "<matplotlib.axes._subplots.AxesSubplot at 0x251cf4c6208>"
      ]
     },
     "execution_count": 77,
     "metadata": {},
     "output_type": "execute_result"
    },
    {
     "data": {
      "text/plain": [
       "<Figure size 1152x432 with 0 Axes>"
      ]
     },
     "metadata": {},
     "output_type": "display_data"
    },
    {
     "data": {
      "image/png": "[encoded data removed]",
      "text/plain": [
       "<Figure size 1152x432 with 1 Axes>"
      ]
     },
     "metadata": {
      "needs_background": "light"
     },
     "output_type": "display_data"
    }
   ],
   "source": [
    "import matplotlib.pyplot as plt\n",
    "\n",
    "cfd_df.set_index('speech').plot(figsize=(16,6))"
   ]
  },
  {
   "cell_type": "markdown",
   "metadata": {},
   "source": [
    "## 5\n",
    "\n",
    "☼ Investigate the holonym-meronym relations for some nouns. Remember that there are three kinds of holonym-meronym relation, so you need to use: \n",
    "* `member_meronyms()`\n",
    "* `part_meronyms()`\n",
    "* `substance_meronyms()` \n",
    "* `member_holonyms()` \n",
    "* `part_holonyms()` \n",
    "* `substance_holonyms()`"
   ]
  },
  {
   "cell_type": "markdown",
   "metadata": {},
   "source": [
    "### Solution\n",
    "\n",
    "* refer to **Section 5.3 - More Lexical Relations**\n",
    "\n",
    "In this example, I will use a different noun to demonstrate each type of lexical relationship. Note that the WordNet lexical relationships are a bit limited, so many words will have missing relationships that you might have expected them to have. For example, the noun 'house' does not have substance meronyms in WordNet despite being commonly built with materials such as wood and bricks. \n",
    "\n",
    "Remember that:\n",
    "1. **meronyms** are items lower in a hierarchy\n",
    "2. **holonyms** are items higher in a hierarchy"
   ]
  },
  {
   "cell_type": "code",
   "execution_count": 317,
   "metadata": {},
   "outputs": [],
   "source": [
    "from nltk.corpus import wordnet as wn"
   ]
  },
  {
   "cell_type": "code",
   "execution_count": 358,
   "metadata": {},
   "outputs": [
    {
     "data": {
      "text/plain": [
       "[Synset('flour.n.01'), Synset('flour.v.01'), Synset('flour.v.02')]"
      ]
     },
     "execution_count": 358,
     "metadata": {},
     "output_type": "execute_result"
    }
   ],
   "source": [
    "wn.synsets('flour')"
   ]
  },
  {
   "cell_type": "code",
   "execution_count": 337,
   "metadata": {},
   "outputs": [
    {
     "data": {
      "text/plain": [
       "'the entire structure of an organism (an animal, plant, or human being)'"
      ]
     },
     "execution_count": 337,
     "metadata": {},
     "output_type": "execute_result"
    }
   ],
   "source": [
    "house_syn = wn.synset('body.n.01')\n",
    "\n",
    "house_syn.definition()"
   ]
  },
  {
   "cell_type": "markdown",
   "metadata": {},
   "source": [
    "* a **member** is a is component of a larger group of entities\n",
    "* an example would be the relationships between a *country* and it's *states*\n",
    "* *country* is higher in the hierarchy, be it's composed of many *states*"
   ]
  },
  {
   "cell_type": "code",
   "execution_count": 332,
   "metadata": {},
   "outputs": [
    {
     "data": {
      "text/plain": [
       "[Synset('department.n.02'), Synset('state.n.01')]"
      ]
     },
     "execution_count": 332,
     "metadata": {},
     "output_type": "execute_result"
    }
   ],
   "source": [
    "wn.synset('country.n.02').member_meronyms()"
   ]
  },
  {
   "cell_type": "code",
   "execution_count": 334,
   "metadata": {},
   "outputs": [
    {
     "data": {
      "text/plain": [
       "[Synset('country.n.02')]"
      ]
     },
     "execution_count": 334,
     "metadata": {},
     "output_type": "execute_result"
    }
   ],
   "source": [
    "wn.synset('state.n.01').member_holonyms()"
   ]
  },
  {
   "cell_type": "markdown",
   "metadata": {},
   "source": [
    "* a **part** is a component of one entity\n",
    "* for example, the *body* of an organism is comprised of many different organs\n",
    "    * a *head*, which is part of a *body*, also has many parts like eyes and ears\n",
    "    * we can continue moving down the hierarchy with various parts of each organ\n",
    "* while a *skull* is part of a head, it can also be part of an entire *skeletal system*"
   ]
  },
  {
   "cell_type": "code",
   "execution_count": 338,
   "metadata": {},
   "outputs": [
    {
     "data": {
      "text/plain": [
       "[Synset('arm.n.01'),\n",
       " Synset('articulatory_system.n.01'),\n",
       " Synset('body_substance.n.01'),\n",
       " Synset('cavity.n.04'),\n",
       " Synset('circulatory_system.n.01'),\n",
       " Synset('crotch.n.02'),\n",
       " Synset('digestive_system.n.01'),\n",
       " Synset('endocrine_system.n.01'),\n",
       " Synset('head.n.01'),\n",
       " Synset('leg.n.01'),\n",
       " Synset('lymphatic_system.n.01'),\n",
       " Synset('musculoskeletal_system.n.01'),\n",
       " Synset('neck.n.01'),\n",
       " Synset('nervous_system.n.01'),\n",
       " Synset('pressure_point.n.01'),\n",
       " Synset('respiratory_system.n.01'),\n",
       " Synset('sensory_system.n.02'),\n",
       " Synset('torso.n.01'),\n",
       " Synset('vascular_system.n.01')]"
      ]
     },
     "execution_count": 338,
     "metadata": {},
     "output_type": "execute_result"
    }
   ],
   "source": [
    "wn.synset('body.n.01').part_meronyms()"
   ]
  },
  {
   "cell_type": "code",
   "execution_count": 341,
   "metadata": {},
   "outputs": [
    {
     "data": {
      "text/plain": [
       "[Synset('basilar_artery.n.01'),\n",
       " Synset('brain.n.01'),\n",
       " Synset('ear.n.01'),\n",
       " Synset('face.n.01'),\n",
       " Synset('muzzle.n.02'),\n",
       " Synset('skull.n.01'),\n",
       " Synset('temple.n.02')]"
      ]
     },
     "execution_count": 341,
     "metadata": {},
     "output_type": "execute_result"
    }
   ],
   "source": [
    "wn.synset('head.n.01').part_meronyms()"
   ]
  },
  {
   "cell_type": "code",
   "execution_count": 350,
   "metadata": {},
   "outputs": [
    {
     "data": {
      "text/plain": [
       "[Synset('axial_skeleton.n.01'), Synset('head.n.01')]"
      ]
     },
     "execution_count": 350,
     "metadata": {},
     "output_type": "execute_result"
    }
   ],
   "source": [
    "wn.synset('skull.n.01').part_holonyms()"
   ]
  },
  {
   "cell_type": "markdown",
   "metadata": {},
   "source": [
    "Food nouns are an easy way to visualize **substance** relationships, because many food dishes are composed of several ingredients. For instance, a *pastery* generally uses *flour* as a base ingredient, although flour can be used as the basis for other foods like *bread*."
   ]
  },
  {
   "cell_type": "code",
   "execution_count": 364,
   "metadata": {},
   "outputs": [
    {
     "data": {
      "text/plain": [
       "[Synset('flour.n.01')]"
      ]
     },
     "execution_count": 364,
     "metadata": {},
     "output_type": "execute_result"
    }
   ],
   "source": [
    "wn.synset('pastry.n.02').substance_meronyms()"
   ]
  },
  {
   "cell_type": "code",
   "execution_count": 359,
   "metadata": {},
   "outputs": [
    {
     "data": {
      "text/plain": [
       "[Synset('bread.n.01'), Synset('dough.n.01'), Synset('pastry.n.02')]"
      ]
     },
     "execution_count": 359,
     "metadata": {},
     "output_type": "execute_result"
    }
   ],
   "source": [
    "wn.synset('flour.n.01').substance_holonyms()"
   ]
  },
  {
   "cell_type": "markdown",
   "metadata": {},
   "source": [
    "## 6\n",
    "\n",
    "☼ In the discussion of comparative wordlists, we created an object called translate which you could look up using words in both German and Spanish in order to get corresponding words in English. What problem might arise with this approach? Can you suggest a way to avoid this problem?\n",
    "\n",
    "### Solution\n",
    "\n",
    "1. you won't know where the translation came from (i.e. Was it a German translation or a Spanish translation?)\n",
    "2. there might be some words that are spelled the same in German and in Spanish but have different meanings\n",
    "    * in fact let's find out the overlaping words in German and Spanish using set theory\n",
    "    * this is called the **intersection** of the two sets (as illustrated in a Ven Diagram below)\n",
    "\n",
    "<img src=\"https://upload.wikimedia.org/wikipedia/commons/thumb/9/99/Venn0001.svg/1280px-Venn0001.svg.png\" alt=\"intersection img\"\n",
    "\ttitle=\"intersection img\" width=\"300\" height=\"200\" />"
   ]
  },
  {
   "cell_type": "code",
   "execution_count": 103,
   "metadata": {},
   "outputs": [
    {
     "data": {
      "text/plain": [
       "set()"
      ]
     },
     "execution_count": 103,
     "metadata": {},
     "output_type": "execute_result"
    }
   ],
   "source": [
    "from nltk.corpus import swadesh\n",
    "\n",
    "de2en = swadesh.entries(['de', 'en'])    # German-English\n",
    "es2en = swadesh.entries(['es', 'en'])    # Spanish-English\n",
    "\n",
    "# sets of each language\n",
    "de2en_set = set([word_pair[0] for word_pair in de2en])\n",
    "es2en_set = set([word_pair[0] for word_pair in es2en])\n",
    "\n",
    "de2en_set & es2en_set   # this is the intersection (i.e. words found in both languages)"
   ]
  },
  {
   "cell_type": "markdown",
   "metadata": {},
   "source": [
    "There appears to be no overlap between the most popular German and Spanish words (at least in the top 200 most common words). However, lets see if there are any overlapping words in French and Italian, both of which are romance languages:"
   ]
  },
  {
   "cell_type": "code",
   "execution_count": 168,
   "metadata": {},
   "outputs": [
    {
     "data": {
      "text/plain": [
       "{'dire', 'là', 'sale'}"
      ]
     },
     "execution_count": 168,
     "metadata": {},
     "output_type": "execute_result"
    }
   ],
   "source": [
    "from nltk.corpus import swadesh\n",
    "\n",
    "it2en = swadesh.entries(['it', 'en'])    # Italian-English\n",
    "fr2en = swadesh.entries(['fr', 'en'])    # French-English\n",
    "\n",
    "# sets of each language\n",
    "it2en_set = set([word_pair[0] for word_pair in it2en])\n",
    "fr2en_set = set([word_pair[0] for word_pair in fr2en])\n",
    "\n",
    "it2en_set & fr2en_set   # this is the intersection (i.e. words found in both languages)"
   ]
  },
  {
   "cell_type": "code",
   "execution_count": 169,
   "metadata": {},
   "outputs": [
    {
     "data": {
      "text/plain": [
       "'salt'"
      ]
     },
     "execution_count": 169,
     "metadata": {},
     "output_type": "execute_result"
    }
   ],
   "source": [
    "translate_it = dict(it2en)\n",
    "\n",
    "translate_it['sale']"
   ]
  },
  {
   "cell_type": "code",
   "execution_count": 170,
   "metadata": {},
   "outputs": [
    {
     "data": {
      "text/plain": [
       "'dirty'"
      ]
     },
     "execution_count": 170,
     "metadata": {},
     "output_type": "execute_result"
    }
   ],
   "source": [
    "translate_fr = dict(fr2en)\n",
    "\n",
    "translate_fr['sale']"
   ]
  },
  {
   "cell_type": "markdown",
   "metadata": {},
   "source": [
    "As you can see, the most common words in Italian and French have three overlapping words. The last word 'sale' has different translations depending on the language used.\n",
    "\n",
    "To fix this, we need to say which language we are planning to translate in addition to the word we want to translate. That means we will need to change the key of each value to be a `(language, word)` pair before combining the dictionaries. This can be done using a list comprehension as shown below:"
   ]
  },
  {
   "cell_type": "code",
   "execution_count": 175,
   "metadata": {},
   "outputs": [],
   "source": [
    "from nltk.corpus import swadesh\n",
    "\n",
    "it2en = [(('it', word), trans) for (word, trans) in swadesh.entries(['it', 'en'])]    # Italian-English\n",
    "fr2en = [(('fr', word), trans) for (word, trans) in swadesh.entries(['fr', 'en'])]    # French-English\n",
    "\n",
    "translate = dict(it2en + fr2en)"
   ]
  },
  {
   "cell_type": "code",
   "execution_count": 177,
   "metadata": {},
   "outputs": [
    {
     "data": {
      "text/plain": [
       "'salt'"
      ]
     },
     "execution_count": 177,
     "metadata": {},
     "output_type": "execute_result"
    }
   ],
   "source": [
    "translate[('it', 'sale')]"
   ]
  },
  {
   "cell_type": "code",
   "execution_count": 176,
   "metadata": {},
   "outputs": [
    {
     "data": {
      "text/plain": [
       "'dirty'"
      ]
     },
     "execution_count": 176,
     "metadata": {},
     "output_type": "execute_result"
    }
   ],
   "source": [
    "translate[('fr', 'sale')]"
   ]
  },
  {
   "cell_type": "markdown",
   "metadata": {},
   "source": [
    "## 7\n",
    "\n",
    "☼ According to Strunk and White's Elements of Style, the word *however*, used at the start of a sentence, means \"in whatever way\" or \"to whatever extent\", and not \"nevertheless\". They give this example of correct usage: *However you advise him, he will probably do as he thinks best*. (http://www.bartleby.com/141/strunk3.html) \n",
    "\n",
    "Use the concordance tool to study actual usage of this word in the various texts we have been considering. See also the LanguageLog posting \"Fossilized prejudices about 'however'\" at http://itre.cis.upenn.edu/~myl/languagelog/archives/001913.html"
   ]
  },
  {
   "cell_type": "markdown",
   "metadata": {},
   "source": [
    "### Solution\n",
    "\n",
    "We can easily study the concordances of texts by converting any list of words into an NLTK text object. The news articles from the Brown Corpus will be used as an example."
   ]
  },
  {
   "cell_type": "code",
   "execution_count": 179,
   "metadata": {},
   "outputs": [
    {
     "data": {
      "text/plain": [
       "['adventure',\n",
       " 'belles_lettres',\n",
       " 'editorial',\n",
       " 'fiction',\n",
       " 'government',\n",
       " 'hobbies',\n",
       " 'humor',\n",
       " 'learned',\n",
       " 'lore',\n",
       " 'mystery',\n",
       " 'news',\n",
       " 'religion',\n",
       " 'reviews',\n",
       " 'romance',\n",
       " 'science_fiction']"
      ]
     },
     "execution_count": 179,
     "metadata": {},
     "output_type": "execute_result"
    }
   ],
   "source": [
    "from nltk.corpus import brown\n",
    "\n",
    "brown.categories()"
   ]
  },
  {
   "cell_type": "code",
   "execution_count": 184,
   "metadata": {},
   "outputs": [],
   "source": [
    "news = nltk.Text(brown.words(categories='news'))"
   ]
  },
  {
   "cell_type": "code",
   "execution_count": 213,
   "metadata": {},
   "outputs": [
    {
     "name": "stdout",
     "output_type": "stream",
     "text": [
      "Displaying 25 of 49 matches:\n",
      "th governments '' . Merger proposed However , the jury said it believes `` thes\n",
      "ment source told The Constitution , however , that Vandiver has not been consul\n",
      " to the election was not so quiet , however . It was marked by controversy , an\n",
      " . ( Some SEATO nations disagreed , however . ) There was the further complicat\n",
      "icans . The Democratic leadership , however , hopes to pass it sometime this we\n",
      "minor editing and clarification ; ; however , the first belief stood for entire\n",
      " your timing gets off '' . Moritz , however , kicks only about 10 or 12 extra p\n",
      " or pro-Yankee . The record books , however , would favor the Giants' ace . In \n",
      " Van Brocklin's aerials . Skorich , however , is a strong advocate of a balance\n",
      "standpoint of the army of duffers , however , this was easily the most hearteni\n",
      "at stroke . Until a few weeks ago , however , Arnold Palmer was some god-like c\n",
      "ainst teams in the other division . However , this would require a lengthening \n",
      "ro Beach , Fla. , for the wedding . However , Mr. Parichy and his bride will go\n",
      "ts club . It won't be a `` tea '' , however , but more of an international folk\n",
      "heir meetings . Dr. Jenkins notes , however , that most of the school boards in\n",
      "atomic submarine . Its power unit , however , was derived from the reactor of t\n",
      " admitted killing Mrs. Hengesbach . However , the confession , which was the on\n",
      "on . An Emory spokesman indicated , however , that the university itself did no\n",
      "hat it was not in the Friday mail . However , three of the managers did say tha\n",
      " . Several theater operators said , however , that there is little likelihood o\n",
      "y allotment had yet been received , however . Board oks pact The commission , m\n",
      "14 per cent over February's 2,963 . However , compared with March 1960 new car \n",
      "fore the American Marketing Assn. . However , Peterson , president of Bell & Ho\n",
      "l sections are showing an upswing , however ; ; the drought-seared North Centra\n",
      "a plan of liquidation . Louisiana , however , collected an income tax on the pr\n"
     ]
    }
   ],
   "source": [
    "news.concordance(\"However\")"
   ]
  },
  {
   "cell_type": "markdown",
   "metadata": {},
   "source": [
    "### Advanced Solution\n",
    "\n",
    "*However* (oops), we are interested only in sentences that start with *However*. The concordance tool is not case sensitive, so it will not filter out upper and lower case h's. So we will need to manually remove entries that have *however* in the middle of the sentence. This can be accomplished by creating a list of concordances using the `.concordance_list` tool.\n",
    "\n",
    "* [Forum post on NLTK concordance lists](https://stackoverflow.com/questions/47649987/how-to-save-nltk-concordance-results-in-a-list)"
   ]
  },
  {
   "cell_type": "code",
   "execution_count": 246,
   "metadata": {},
   "outputs": [],
   "source": [
    "cl = news.concordance_list(\"however\", lines=49)"
   ]
  },
  {
   "cell_type": "code",
   "execution_count": 247,
   "metadata": {},
   "outputs": [
    {
     "data": {
      "text/plain": [
       "ConcordanceLine(left=['operated', 'and', 'follow', 'generally', 'accepted', 'practices', 'which', 'inure', 'to', 'the', 'best', 'interest', 'of', 'both', 'governments', \"''\", '.', 'Merger', 'proposed'], query='However', right=[',', 'the', 'jury', 'said', 'it', 'believes', '``', 'these', 'two', 'offices', 'should', 'be', 'combined', 'to', 'achieve', 'greater', 'efficiency', 'and'], offset=233, left_print=\"th governments '' . Merger proposed\", right_print=', the jury said it believes `` thes', line=\"th governments '' . Merger proposed However , the jury said it believes `` thes\")"
      ]
     },
     "execution_count": 247,
     "metadata": {},
     "output_type": "execute_result"
    }
   ],
   "source": [
    "cl[0]"
   ]
  },
  {
   "cell_type": "code",
   "execution_count": 226,
   "metadata": {},
   "outputs": [
    {
     "data": {
      "text/plain": [
       "nltk.text.ConcordanceLine"
      ]
     },
     "execution_count": 226,
     "metadata": {},
     "output_type": "execute_result"
    }
   ],
   "source": [
    "type(cl[0])"
   ]
  },
  {
   "cell_type": "code",
   "execution_count": 223,
   "metadata": {},
   "outputs": [
    {
     "data": {
      "text/plain": [
       "'However'"
      ]
     },
     "execution_count": 223,
     "metadata": {},
     "output_type": "execute_result"
    }
   ],
   "source": [
    "cl[0].query"
   ]
  },
  {
   "cell_type": "code",
   "execution_count": 227,
   "metadata": {},
   "outputs": [
    {
     "data": {
      "text/plain": [
       "\"th governments '' . Merger proposed However , the jury said it believes `` thes\""
      ]
     },
     "execution_count": 227,
     "metadata": {},
     "output_type": "execute_result"
    }
   ],
   "source": [
    "cl[0].line"
   ]
  },
  {
   "cell_type": "markdown",
   "metadata": {},
   "source": [
    "We will need to remove all the `ConcordaneLine` objects that have a `.query` attribute of 'however'. This can be done using a list comprehension, and it can create a list of sentances as well."
   ]
  },
  {
   "cell_type": "code",
   "execution_count": 248,
   "metadata": {},
   "outputs": [
    {
     "data": {
      "text/plain": [
       "[\"th governments '' . Merger proposed However , the jury said it believes `` thes\",\n",
       " 'ainst teams in the other division . However , this would require a lengthening ',\n",
       " 'ro Beach , Fla. , for the wedding . However , Mr. Parichy and his bride will go',\n",
       " ' admitted killing Mrs. Hengesbach . However , the confession , which was the on',\n",
       " 'hat it was not in the Friday mail . However , three of the managers did say tha',\n",
       " \"14 per cent over February's 2,963 . However , compared with March 1960 new car \",\n",
       " 'fore the American Marketing Assn. . However , Peterson , president of Bell & Ho',\n",
       " \"solution , naturally , is the bus . However , it's a half-mile walk down a stee\",\n",
       " 'acturers is hardly such a vehicle . However , one can argue that no such contro',\n",
       " 'd to wait until the Congo grew up . However , the positions of all parties and ',\n",
       " 'and appealed to Russia for help . ( However , there is little evidence that the',\n",
       " 'nds have slipped a bit since then . However , in the same three-month period , ']"
      ]
     },
     "execution_count": 248,
     "metadata": {},
     "output_type": "execute_result"
    }
   ],
   "source": [
    "[conLine.line for conLine in cl if conLine.query == \"However\"]"
   ]
  },
  {
   "cell_type": "markdown",
   "metadata": {},
   "source": [
    "It looks like none of the instances of *However* in these sentences mean \"to whatever extent\". Although there is an example of this occurance when looking at the full brown corpus."
   ]
  },
  {
   "cell_type": "code",
   "execution_count": 250,
   "metadata": {},
   "outputs": [
    {
     "name": "stdout",
     "output_type": "stream",
     "text": [
      "Displaying 25 of 552 matches:\n",
      "th governments '' . Merger proposed However , the jury said it believes `` thes\n",
      "ment source told The Constitution , however , that Vandiver has not been consul\n",
      " to the election was not so quiet , however . It was marked by controversy , an\n",
      " . ( Some SEATO nations disagreed , however . ) There was the further complicat\n",
      "icans . The Democratic leadership , however , hopes to pass it sometime this we\n",
      "minor editing and clarification ; ; however , the first belief stood for entire\n",
      " your timing gets off '' . Moritz , however , kicks only about 10 or 12 extra p\n",
      " or pro-Yankee . The record books , however , would favor the Giants' ace . In \n",
      " Van Brocklin's aerials . Skorich , however , is a strong advocate of a balance\n",
      "standpoint of the army of duffers , however , this was easily the most hearteni\n",
      "at stroke . Until a few weeks ago , however , Arnold Palmer was some god-like c\n",
      "ainst teams in the other division . However , this would require a lengthening \n",
      "ro Beach , Fla. , for the wedding . However , Mr. Parichy and his bride will go\n",
      "ts club . It won't be a `` tea '' , however , but more of an international folk\n",
      "heir meetings . Dr. Jenkins notes , however , that most of the school boards in\n",
      "atomic submarine . Its power unit , however , was derived from the reactor of t\n",
      " admitted killing Mrs. Hengesbach . However , the confession , which was the on\n",
      "on . An Emory spokesman indicated , however , that the university itself did no\n",
      "hat it was not in the Friday mail . However , three of the managers did say tha\n",
      " . Several theater operators said , however , that there is little likelihood o\n",
      "y allotment had yet been received , however . Board oks pact The commission , m\n",
      "14 per cent over February's 2,963 . However , compared with March 1960 new car \n",
      "fore the American Marketing Assn. . However , Peterson , president of Bell & Ho\n",
      "l sections are showing an upswing , however ; ; the drought-seared North Centra\n",
      "a plan of liquidation . Louisiana , however , collected an income tax on the pr\n"
     ]
    }
   ],
   "source": [
    "brownText = nltk.Text(brown.words())\n",
    "brownText.concordance(\"however\")"
   ]
  },
  {
   "cell_type": "code",
   "execution_count": 252,
   "metadata": {},
   "outputs": [
    {
     "data": {
      "text/plain": [
       "\"nemesis haunting his footsteps '' . However one looks at it , therefore , I'd s\""
      ]
     },
     "execution_count": 252,
     "metadata": {},
     "output_type": "execute_result"
    }
   ],
   "source": [
    "cl = brownText.concordance_list(\"however\", lines=552)\n",
    "[conLine.line for conLine in cl if conLine.query == \"However\"][-1]"
   ]
  },
  {
   "cell_type": "markdown",
   "metadata": {},
   "source": [
    "## 8\n",
    "\n",
    "◑ Define a conditional frequency distribution over the `Names corpus` that allows you to see which initial letters are more frequent for males vs. females (cf. 4.4).\n",
    "\n",
    "### Solution\n",
    "\n",
    "* only one change needs to be made in the textbook's example\n",
    "* instead of `name[-1]` (the last letter of a name) to `name[0]` (the first lett of a name)"
   ]
  },
  {
   "cell_type": "code",
   "execution_count": 373,
   "metadata": {},
   "outputs": [
    {
     "data": {
      "image/png": "[encoded data removed]",
      "text/plain": [
       "<Figure size 720x288 with 1 Axes>"
      ]
     },
     "metadata": {
      "needs_background": "light"
     },
     "output_type": "display_data"
    },
    {
     "data": {
      "text/plain": [
       "<matplotlib.axes._subplots.AxesSubplot at 0x251cc65a8c8>"
      ]
     },
     "execution_count": 373,
     "metadata": {},
     "output_type": "execute_result"
    }
   ],
   "source": [
    "import matplotlib.pyplot as plt\n",
    "\n",
    "# name data\n",
    "names = nltk.corpus.names\n",
    "male_names = names.words('male.txt')\n",
    "female_names = names.words('female.txt')\n",
    "\n",
    "cfd = nltk.ConditionalFreqDist(\n",
    "    (fileid, name[0]) \n",
    "    for fileid in names.fileids()\n",
    "    for name in names.words(fileid))\n",
    "\n",
    "plt.figure(figsize=(10, 4)) # optional; changes size of graph\n",
    "\n",
    "cfd.plot()"
   ]
  },
  {
   "cell_type": "markdown",
   "metadata": {},
   "source": [
    "## 9\n",
    "\n",
    "◑ Pick a pair of texts and study the differences between them, in terms of vocabulary, vocabulary richness, genre, etc. Can you find pairs of words which have quite different meanings across the two texts, such as monstrous in *Moby Dick* and in *Sense and Sensibility*?\n",
    "\n",
    "### Solution\n",
    "\n",
    "The `concordance` tool can be used to see the context of words used in a text."
   ]
  },
  {
   "cell_type": "code",
   "execution_count": null,
   "metadata": {},
   "outputs": [],
   "source": [
    "# run this if on Google Colab\n",
    "nltk.download('book')"
   ]
  },
  {
   "cell_type": "code",
   "execution_count": 380,
   "metadata": {},
   "outputs": [],
   "source": [
    "from nltk.book import text1, text2"
   ]
  },
  {
   "cell_type": "code",
   "execution_count": 391,
   "metadata": {},
   "outputs": [
    {
     "name": "stdout",
     "output_type": "stream",
     "text": [
      "Displaying 11 of 11 matches:\n",
      "ong the former , one was of a most monstrous size . ... This came towards us , \n",
      "ON OF THE PSALMS . \" Touching that monstrous bulk of the whale or ork we have r\n",
      "ll over with a heathenish array of monstrous clubs and spears . Some were thick\n",
      "d as you gazed , and wondered what monstrous cannibal and savage could ever hav\n",
      "that has survived the flood ; most monstrous and most mountainous ! That Himmal\n",
      "they might scout at Moby Dick as a monstrous fable , or still worse and more de\n",
      "th of Radney .'\" CHAPTER 55 Of the Monstrous Pictures of Whales . I shall ere l\n",
      "ing Scenes . In connexion with the monstrous pictures of whales , I am strongly\n",
      "ere to enter upon those still more monstrous stories of them which are to be fo\n",
      "ght have been rummaged out of this monstrous cabinet there is no telling . But \n",
      "of Whale - Bones ; for Whales of a monstrous size are oftentimes cast up dead u\n"
     ]
    }
   ],
   "source": [
    "text1.concordance(\"monstrous\")"
   ]
  },
  {
   "cell_type": "code",
   "execution_count": 392,
   "metadata": {},
   "outputs": [
    {
     "name": "stdout",
     "output_type": "stream",
     "text": [
      "Displaying 11 of 11 matches:\n",
      ". \" Now , Palmer , you shall see a monstrous pretty girl .\" He immediately went\n",
      "your sister is to marry him . I am monstrous glad of it , for then I shall have\n",
      "ou may tell your sister . She is a monstrous lucky girl to get him , upon my ho\n",
      "k how you will like them . Lucy is monstrous pretty , and so good humoured and \n",
      " Jennings , \" I am sure I shall be monstrous glad of Miss Marianne ' s company \n",
      " usual noisy cheerfulness , \" I am monstrous glad to see you -- sorry I could n\n",
      "t however , as it turns out , I am monstrous glad there was never any thing in \n",
      "so scornfully ! for they say he is monstrous fond of her , as well he may . I s\n",
      "possible that she should .\" \" I am monstrous glad of it . Good gracious ! I hav\n",
      "thing of the kind . So then he was monstrous happy , and talked on some time ab\n",
      "e very genteel people . He makes a monstrous deal of money , and they keep thei\n"
     ]
    }
   ],
   "source": [
    "text2.concordance(\"monstrous\")"
   ]
  },
  {
   "cell_type": "markdown",
   "metadata": {},
   "source": [
    "It appears as though the word 'monstrous' in *Moby Dick* is an adjective to refer to the whale in the book. In *Sense and Sensibility*, it's an adjective to describe a stribg feeling of an adjective, like 'monstrous glad'. \n",
    "\n",
    "To compare the vocabulary richenss across texts, the `lexical_diversity` function can be used to compare the amount of unique words accross each text. (see section 3.2)"
   ]
  },
  {
   "cell_type": "code",
   "execution_count": 408,
   "metadata": {},
   "outputs": [],
   "source": [
    "def lexical_diversity(text):\n",
    "     return len(set(text)) / len(text)"
   ]
  },
  {
   "cell_type": "code",
   "execution_count": 409,
   "metadata": {},
   "outputs": [
    {
     "data": {
      "text/plain": [
       "0.07406285585022564"
      ]
     },
     "execution_count": 409,
     "metadata": {},
     "output_type": "execute_result"
    }
   ],
   "source": [
    "lexical_diversity(text1)"
   ]
  },
  {
   "cell_type": "code",
   "execution_count": 410,
   "metadata": {},
   "outputs": [
    {
     "data": {
      "text/plain": [
       "0.04826383002768831"
      ]
     },
     "execution_count": 410,
     "metadata": {},
     "output_type": "execute_result"
    }
   ],
   "source": [
    "lexical_diversity(text2)"
   ]
  },
  {
   "cell_type": "markdown",
   "metadata": {},
   "source": [
    "## 10\n",
    "\n",
    "◑ Read the BBC News article: [UK's Vicky Pollards 'left behind'](http://news.bbc.co.uk/1/hi/education/6173441.stm). The article gives the following statistic about teen language: \"the top 20 words used, including yeah, no, but and like, account for around a third of all words.\" How many word types account for a third of all word tokens, for a variety of text sources? What do you conclude about this statistic? Read more about this on LanguageLog, at http://itre.cis.upenn.edu/~myl/languagelog/archives/003993.html."
   ]
  },
  {
   "cell_type": "code",
   "execution_count": null,
   "metadata": {},
   "outputs": [],
   "source": []
  },
  {
   "cell_type": "markdown",
   "metadata": {},
   "source": [
    "## 11\n",
    "\n",
    "◑ Investigate the table of modal distributions and look for other patterns. Try to explain them in terms of your own impressionistic understanding of the different genres. Can you find other closed classes of words that exhibit significant differences across different genres?"
   ]
  },
  {
   "cell_type": "code",
   "execution_count": null,
   "metadata": {},
   "outputs": [],
   "source": []
  },
  {
   "cell_type": "markdown",
   "metadata": {},
   "source": [
    "## 12\n",
    "\n",
    "◑ The CMU Pronouncing Dictionary contains multiple pronunciations for certain words. How many distinct words does it contain? What fraction of words in this dictionary have more than one possible pronunciation?"
   ]
  },
  {
   "cell_type": "code",
   "execution_count": null,
   "metadata": {},
   "outputs": [],
   "source": []
  },
  {
   "cell_type": "markdown",
   "metadata": {},
   "source": [
    "## 13\n",
    "\n",
    "◑ What percentage of noun synsets have no hyponyms? You can get all noun synsets using `wn.all_synsets('n')`."
   ]
  },
  {
   "cell_type": "code",
   "execution_count": 67,
   "metadata": {},
   "outputs": [
    {
     "data": {
      "text/plain": [
       "0.7967119283931072"
      ]
     },
     "execution_count": 67,
     "metadata": {},
     "output_type": "execute_result"
    }
   ],
   "source": [
    "from nltk.corpus import wordnet as wn\n",
    "\n",
    "nouns = list(wn.all_synsets('n'))\n",
    "\n",
    "len([n for n in nouns if len(n.hyponyms()) == 0]) / len(nouns)"
   ]
  },
  {
   "cell_type": "markdown",
   "metadata": {},
   "source": [
    "## 14\n",
    "\n",
    "◑ Define a function supergloss(s) that takes a synset s as its argument and returns a string consisting of the concatenation of the definition of s, and the definitions of all the hypernyms and hyponyms of s."
   ]
  },
  {
   "cell_type": "code",
   "execution_count": 57,
   "metadata": {},
   "outputs": [],
   "source": [
    "from nltk.corpus import wordnet as wn\n",
    "\n",
    "def supergloss(s):\n",
    "    \n",
    "    hypers = car_syn.hypernyms()\n",
    "    hypos = car_syn.hyponyms()\n",
    "    \n",
    "    hyper_defs = [\"    \" + h.lemmas()[0].name() + \": \" + h.definition() + \"\\n\" for h in hypos]\n",
    "    hypo_defs = [\"    \" + h.lemmas()[0].name() + \": \" + h.definition() + \"\\n\" for h in hypers]\n",
    "    \n",
    "    word_string = s.lemmas()[0].name() + \": \" + s.definition() + \"\\n\"\n",
    "    hypo_string = \"hyponyms: \\n\" + ''.join(hyper_defs)\n",
    "    hyper_string = \"hypernyms: \\n\" + ''.join(hypo_defs)\n",
    "    \n",
    "    return word_string + \"\\n\" + hyper_string + \"\\n\" + hypo_string"
   ]
  },
  {
   "cell_type": "code",
   "execution_count": 58,
   "metadata": {},
   "outputs": [
    {
     "name": "stdout",
     "output_type": "stream",
     "text": [
      "car: a motor vehicle with four wheels; usually propelled by an internal combustion engine\n",
      "\n",
      "hypernyms: \n",
      "    motor_vehicle: a self-propelled wheeled vehicle that does not run on rails\n",
      "\n",
      "hyponyms: \n",
      "    ambulance: a vehicle that takes people to and from hospitals\n",
      "    beach_wagon: a car that has a long body and rear door with space behind rear seat\n",
      "    bus: a car that is old and unreliable\n",
      "    cab: a car driven by a person whose job is to take passengers where they want to go in exchange for money\n",
      "    compact: a small and economical car\n",
      "    convertible: a car that has top that can be folded or removed\n",
      "    coupe: a car with two doors and front seats and a luggage compartment\n",
      "    cruiser: a car in which policemen cruise the streets; equipped with radiotelephonic communications to headquarters\n",
      "    electric: a car that is powered by electricity\n",
      "    gas_guzzler: a car with relatively low fuel efficiency\n",
      "    hardtop: a car that resembles a convertible but has a fixed rigid top\n",
      "    hatchback: a car having a hatchback door\n",
      "    horseless_carriage: an early term for an automobile\n",
      "    hot_rod: a car modified to increase its speed and acceleration\n",
      "    jeep: a car suitable for traveling over rough terrain\n",
      "    limousine: large luxurious car; usually driven by a chauffeur\n",
      "    loaner: a car that is lent as a replacement for one that is under repair\n",
      "    minicar: a car that is even smaller than a subcompact car\n",
      "    minivan: a small box-shaped passenger van; usually has removable seats; used as a family car\n",
      "    Model_T: the first widely available automobile powered by a gasoline engine; mass-produced by Henry Ford from 1908 to 1927\n",
      "    pace_car: a high-performance car that leads a parade of competing cars through the pace lap and then pulls off the course\n",
      "    racer: a fast car that competes in races\n",
      "    roadster: an open automobile having a front seat and a rumble seat\n",
      "    sedan: a car that is closed and that has front and rear seats and two or four doors\n",
      "    sport_utility: a high-performance four-wheel drive car built on a truck chassis\n",
      "    sports_car: a small low car with a high-powered engine; usually seats two persons\n",
      "    Stanley_Steamer: a steam-powered automobile\n",
      "    stock_car: a car kept in dealers' stock for regular sales\n",
      "    subcompact: a car smaller than a compact car\n",
      "    touring_car: large open car seating four with folding top\n",
      "    used-car: a car that has been previously owned; not a new car\n",
      "\n"
     ]
    }
   ],
   "source": [
    "car_syn = wn.synset('car.n.01')\n",
    "\n",
    "print(supergloss(car_syn))"
   ]
  },
  {
   "cell_type": "markdown",
   "metadata": {},
   "source": [
    "## 15.\n",
    "\n",
    "◑ Write a program to find all words that occur at least three times in the Brown Corpus."
   ]
  },
  {
   "cell_type": "code",
   "execution_count": 81,
   "metadata": {},
   "outputs": [
    {
     "name": "stdout",
     "output_type": "stream",
     "text": [
      "22339\n",
      "1161192\n"
     ]
    }
   ],
   "source": [
    "from nltk.corpus import brown\n",
    "\n",
    "cfd = nltk.FreqDist(brown.words())\n",
    "words = [w for w in cfd.keys() if cfd[w] >= 3]\n",
    "\n",
    "print(len(words))\n",
    "print(len(brown.words()))"
   ]
  },
  {
   "cell_type": "markdown",
   "metadata": {},
   "source": [
    "## 16.\n",
    "\n",
    "◑ Write a program to generate a table of lexical diversity scores (i.e. token/type ratios), as we saw in 1.1. Include the full set of Brown Corpus genres (`nltk.corpus.brown.categories()`). Which genre has the lowest diversity (greatest number of tokens per type)? Is this what you would have expected?\n",
    "\n",
    "### Solution\n",
    "\n",
    "A list of tuples containing the genre and it's corresponding lexical diversity scores can be created by using a list comprehension."
   ]
  },
  {
   "cell_type": "code",
   "execution_count": 91,
   "metadata": {},
   "outputs": [],
   "source": [
    "def lexical_diversity(text):\n",
    "     return len(text) / len(set(text))\n",
    "    \n",
    "cats = nltk.corpus.brown.categories()\n",
    "brown_lex_table = [(c, lexical_diversity(brown.words(categories=c))) for c in cats]"
   ]
  },
  {
   "cell_type": "code",
   "execution_count": 92,
   "metadata": {},
   "outputs": [
    {
     "data": {
      "text/plain": [
       "[('adventure', 7.814063556457065),\n",
       " ('belles_lettres', 9.396666847619565),\n",
       " ('editorial', 6.22891809908999),\n",
       " ('fiction', 7.362717695119329),\n",
       " ('government', 8.570712626818237),\n",
       " ('hobbies', 6.899455383326351),\n",
       " ('humor', 4.324297388877816),\n",
       " ('learned', 10.788777507562726),\n",
       " ('lore', 7.60525408536165),\n",
       " ('mystery', 8.188054998567745),\n",
       " ('news', 6.98582742809504),\n",
       " ('religion', 6.182174799937235),\n",
       " ('reviews', 4.718757245536749),\n",
       " ('romance', 8.284666351159489),\n",
       " ('science_fiction', 4.475719146303742)]"
      ]
     },
     "execution_count": 92,
     "metadata": {},
     "output_type": "execute_result"
    }
   ],
   "source": [
    "brown_lex_table"
   ]
  },
  {
   "cell_type": "markdown",
   "metadata": {},
   "source": [
    "With a [lambda function](https://realpython.com/python-lambda/) and python built-ins **min** and **max**, the genere with the minimum and maximum lexical diversity can be found:"
   ]
  },
  {
   "cell_type": "code",
   "execution_count": 95,
   "metadata": {},
   "outputs": [
    {
     "data": {
      "text/plain": [
       "('humor', 4.324297388877816)"
      ]
     },
     "execution_count": 95,
     "metadata": {},
     "output_type": "execute_result"
    }
   ],
   "source": [
    "min(brown_lex_table, key = lambda x : x[1])"
   ]
  },
  {
   "cell_type": "code",
   "execution_count": 96,
   "metadata": {},
   "outputs": [
    {
     "data": {
      "text/plain": [
       "('learned', 10.788777507562726)"
      ]
     },
     "execution_count": 96,
     "metadata": {},
     "output_type": "execute_result"
    }
   ],
   "source": [
    "max(brown_lex_table, key = lambda x : x[1])"
   ]
  },
  {
   "cell_type": "markdown",
   "metadata": {},
   "source": [
    "## 17.\n",
    "\n",
    "◑ Write a function that finds the 50 most frequently occurring words of a text that are not stopwords.\n",
    "\n",
    "### Solution\n",
    "\n",
    "This function will take in an NLTK corpus or NLTK Text object and return the top 50 most occuring words that are not stop words."
   ]
  },
  {
   "cell_type": "code",
   "execution_count": 121,
   "metadata": {},
   "outputs": [],
   "source": [
    "from nltk.corpus import stopwords\n",
    "\n",
    "def top50_nonstop(text):\n",
    "    \n",
    "    stops = stopwords.words('english')\n",
    "    text_words = text.words()\n",
    "\n",
    "    non_stops = [word.lower() for word in text_words if word.lower() not in stops]\n",
    "    \n",
    "    return nltk.FreqDist(non_stops).most_common(50)"
   ]
  },
  {
   "cell_type": "code",
   "execution_count": 120,
   "metadata": {},
   "outputs": [
    {
     "data": {
      "text/plain": [
       "[(',', 77717),\n",
       " ('.', 65876),\n",
       " (\"'\", 30585),\n",
       " ('\"', 17612),\n",
       " ('-', 15595),\n",
       " (')', 11781),\n",
       " ('(', 11664),\n",
       " ('film', 9517),\n",
       " ('one', 5852),\n",
       " ('movie', 5771),\n",
       " ('?', 3771),\n",
       " ('like', 3690),\n",
       " (':', 3042),\n",
       " ('even', 2565),\n",
       " ('good', 2411),\n",
       " ('time', 2411),\n",
       " ('story', 2169),\n",
       " ('would', 2109),\n",
       " ('much', 2049),\n",
       " ('character', 2020),\n",
       " ('also', 1967),\n",
       " ('get', 1949),\n",
       " ('two', 1911),\n",
       " ('well', 1906),\n",
       " ('characters', 1859),\n",
       " (';', 1850),\n",
       " ('first', 1836),\n",
       " ('--', 1815),\n",
       " ('see', 1749),\n",
       " ('!', 1713),\n",
       " ('way', 1693),\n",
       " ('make', 1642),\n",
       " ('life', 1586),\n",
       " ('really', 1558),\n",
       " ('films', 1536),\n",
       " ('plot', 1513),\n",
       " ('little', 1501),\n",
       " ('people', 1455),\n",
       " ('could', 1427),\n",
       " ('scene', 1397),\n",
       " ('man', 1396),\n",
       " ('bad', 1395),\n",
       " ('never', 1374),\n",
       " ('best', 1333),\n",
       " ('new', 1292),\n",
       " ('scenes', 1274),\n",
       " ('many', 1268),\n",
       " ('director', 1237),\n",
       " ('know', 1217),\n",
       " ('movies', 1206)]"
      ]
     },
     "execution_count": 120,
     "metadata": {},
     "output_type": "execute_result"
    }
   ],
   "source": [
    "from nltk.corpus import movie_reviews\n",
    "\n",
    "top50_nonstop(movie_reviews)"
   ]
  },
  {
   "cell_type": "markdown",
   "metadata": {},
   "source": [
    "## 18.\n",
    "\n",
    "◑ Write a program to print the 50 most frequent bigrams (pairs of adjacent words) of a text, omitting bigrams that contain stopwords.\n",
    "\n",
    "### Solution\n",
    "\n",
    "It may be tempting to reuse most of the code from exercise 17 by creating a set of bigrams from a list without stop words. There are however two problems with this:\n",
    "\n",
    "1. a false bigram might be created when two words are between a stop word\n",
    "    * ex: the phrase \"started the engine\" would turn into (started, engine)\n",
    "2. the end of one text file and the begining of another text file cannot be a bigram because they are unrelated to each other\n",
    "\n",
    "This means extra steps will need to be taken in order to collect the bigrams of each individual review, combine them and then filter out stop words before determining the top 50 most common bigrams in the review set."
   ]
  },
  {
   "cell_type": "code",
   "execution_count": 159,
   "metadata": {},
   "outputs": [],
   "source": [
    "from nltk.corpus import stopwords\n",
    "\n",
    "def top50_bigrams_nonstop(text):\n",
    "    \n",
    "    stops = stopwords.words('english')\n",
    "    \n",
    "    text_bigrams = [list(nltk.bigrams([w.lower() for w in text.words(file_id)])) for file_id in text.fileids()]\n",
    "    \n",
    "    text_bigrams_combined = sum(text_bigrams, [])\n",
    "    \n",
    "    nonstop_bigrams = [(l, r) for (l, r) in text_bigrams_combined \n",
    "                       if l not in stops and r not in stops]\n",
    "    \n",
    "    return nltk.FreqDist(nonstop_bigrams).most_common(50)"
   ]
  },
  {
   "cell_type": "code",
   "execution_count": 160,
   "metadata": {},
   "outputs": [
    {
     "data": {
      "text/plain": [
       "[((')', ','), 3498),\n",
       " (('.', '.'), 2948),\n",
       " ((',', '\"'), 2308),\n",
       " ((')', '.'), 2299),\n",
       " (('.', '\"'), 1854),\n",
       " (('film', ','), 1277),\n",
       " (('film', '.'), 1118),\n",
       " (('however', ','), 872),\n",
       " (('movie', '.'), 802),\n",
       " (('movie', ','), 659),\n",
       " (('film', \"'\"), 583),\n",
       " (('.', ')'), 535),\n",
       " (('\"', ')'), 530),\n",
       " (('.', 'however'), 508),\n",
       " (('well', ','), 495),\n",
       " (('.', '('), 462),\n",
       " (('.', 'one'), 459),\n",
       " (('\"', ','), 453),\n",
       " (('\"', '.'), 408),\n",
       " (('course', ','), 391),\n",
       " ((',', 'however'), 389),\n",
       " (('special', 'effects'), 382),\n",
       " ((',', 'even'), 368),\n",
       " ((',', 'though'), 368),\n",
       " (('time', '.'), 360),\n",
       " (('.', 'even'), 346),\n",
       " (('time', ','), 336),\n",
       " (('mr', '.'), 319),\n",
       " (('fact', ','), 318),\n",
       " (('*', '*'), 313),\n",
       " (('!', '\"'), 311),\n",
       " (('.', 'although'), 308),\n",
       " (('\"', '('), 290),\n",
       " ((',', 'one'), 290),\n",
       " ((',', 'especially'), 277),\n",
       " ((',', 'like'), 275),\n",
       " ((',', 'although'), 274),\n",
       " (('unfortunately', ','), 274),\n",
       " (('life', '.'), 270),\n",
       " (('?', '\"'), 270),\n",
       " (('story', '.'), 267),\n",
       " (('(', '\"'), 264),\n",
       " (('.', 'unfortunately'), 263),\n",
       " (('/', '10'), 257),\n",
       " (('characters', ','), 256),\n",
       " (('one', '-'), 255),\n",
       " (('10', ')'), 253),\n",
       " (('story', ','), 251),\n",
       " (('well', '-'), 249),\n",
       " (('new', 'york'), 249)]"
      ]
     },
     "execution_count": 160,
     "metadata": {},
     "output_type": "execute_result"
    }
   ],
   "source": [
    "from nltk.corpus import movie_reviews\n",
    "\n",
    "top50_bigrams_nonstop(movie_reviews)"
   ]
  },
  {
   "cell_type": "markdown",
   "metadata": {},
   "source": [
    "## 19.\n",
    "\n",
    "◑ Write a program to create a table of word frequencies by genre, like the one given in section 1 for modals. Choose your own words and try to find words whose presence (or absence) is typical of a genre. Discuss your findings."
   ]
  },
  {
   "cell_type": "code",
   "execution_count": null,
   "metadata": {},
   "outputs": [],
   "source": []
  },
  {
   "cell_type": "markdown",
   "metadata": {},
   "source": [
    "## 20.\n",
    "\n",
    "◑ Write a function `word_freq()` that takes a word and the name of a section of the Brown Corpus as arguments, and computes the frequency of the word in that section of the corpus."
   ]
  },
  {
   "cell_type": "code",
   "execution_count": null,
   "metadata": {},
   "outputs": [],
   "source": []
  },
  {
   "cell_type": "markdown",
   "metadata": {},
   "source": [
    "# 21.\n",
    "\n",
    "◑ Write a program to guess the number of syllables contained in a text, making use of the CMU Pronouncing Dictionary."
   ]
  },
  {
   "cell_type": "code",
   "execution_count": null,
   "metadata": {},
   "outputs": [],
   "source": []
  },
  {
   "cell_type": "markdown",
   "metadata": {},
   "source": [
    "## 22.\n",
    "\n",
    "◑ Define a function `hedge(text)` which processes a text and produces a new version with the word 'like' between every third word."
   ]
  },
  {
   "cell_type": "code",
   "execution_count": 30,
   "metadata": {},
   "outputs": [],
   "source": [
    "def hedge(text):\n",
    "    words = nltk.word_tokenize(text)\n",
    "    like_words = []\n",
    "\n",
    "    for index in range(len(words)):\n",
    "        if (index % 3 == 0 and index != 0):\n",
    "            like_words.append(\"like\")\n",
    "        like_words.append(words[index])\n",
    "    \n",
    "    return like_words"
   ]
  },
  {
   "cell_type": "code",
   "execution_count": 31,
   "metadata": {},
   "outputs": [
    {
     "data": {
      "text/plain": [
       "['This',\n",
       " 'is',\n",
       " 'a',\n",
       " 'like',\n",
       " 'test',\n",
       " 'text',\n",
       " 'one',\n",
       " 'like',\n",
       " 'two',\n",
       " 'three',\n",
       " 'check']"
      ]
     },
     "execution_count": 31,
     "metadata": {},
     "output_type": "execute_result"
    }
   ],
   "source": [
    "test = \"This is a test text one two three check\"\n",
    "\n",
    "hedge(test)"
   ]
  },
  {
   "cell_type": "markdown",
   "metadata": {},
   "source": [
    "## 23.\n",
    "\n",
    "★ Zipf's Law: Let *f(w)* be the frequency of a word *w* in free text. Suppose that all the words of a text are ranked according to their frequency, with the most frequent word first. Zipf's law states that the frequency of a word type is inversely proportional to its rank (i.e. *f × r = k*, for some constant *k*). For example, the 50th most common word type should occur three times as frequently as the 150th most common word type.\n",
    "    \n",
    "1. Write a function to process a large text and plot word frequency against word rank using `pylab.plot`. Do you confirm Zipf's law? (Hint: it helps to use a logarithmic scale). What is going on at the extreme ends of the plotted line?\n",
    "2. Generate random text, e.g., using `random.choice(\"abcdefg \")`, taking care to include the space character. You will need to `import random` first. Use the string concatenation operator to accumulate characters into a (very) long string. Then tokenize this string, and generate the Zipf plot as before, and compare the two plots. What do you make of Zipf's Law in the light of this?"
   ]
  },
  {
   "cell_type": "code",
   "execution_count": null,
   "metadata": {},
   "outputs": [],
   "source": []
  },
  {
   "cell_type": "markdown",
   "metadata": {},
   "source": [
    "## 24.\n",
    "\n",
    "★ Modify the text generation program in 2.2 further, to do the following tasks:\n",
    "\n",
    "1. Store the n most likely words in a list words then randomly choose a word from the list using `random.choice()`. (You will need to `import random` first.)\n",
    "2. Select a particular genre, such as a section of the Brown Corpus, or a genesis translation, one of the Gutenberg texts, or one of the Web texts. Train the model on this corpus and get it to generate random text. You may have to experiment with different start words. How intelligible is the text? Discuss the strengths and weaknesses of this method of generating random text.\n",
    "3. Now train your system using two distinct genres and experiment with generating text in the hybrid genre. Discuss your observations.\n"
   ]
  },
  {
   "cell_type": "code",
   "execution_count": null,
   "metadata": {},
   "outputs": [],
   "source": []
  },
  {
   "cell_type": "markdown",
   "metadata": {},
   "source": [
    "## 25. \n",
    "\n",
    "★ Define a function `find_language()` that takes a string as its argument, and returns a list of languages that have that string as a word. Use the udhr corpus and limit your searches to files in the Latin-1 encoding.\n",
    "\n",
    "### Solution\n",
    "\n",
    "1. Use a list comprehension to create a list of language files that end in `Latin1`\n",
    "2. Use a list comprehension to find a word is in the UDHR of a particular language\n",
    "    * **Note:** this solution is case-sensitive"
   ]
  },
  {
   "cell_type": "code",
   "execution_count": 67,
   "metadata": {},
   "outputs": [],
   "source": [
    "def find_language(word):\n",
    "    \n",
    "    latin_langs = [lang for lang in nltk.corpus.udhr.fileids() if lang.endswith(\"Latin1\")]\n",
    "\n",
    "    return [lang[:-7] for lang in latin_langs if word in nltk.corpus.udhr.words(lang)]"
   ]
  },
  {
   "cell_type": "code",
   "execution_count": 71,
   "metadata": {},
   "outputs": [
    {
     "data": {
      "text/plain": [
       "['English', 'Paez', 'Yao']"
      ]
     },
     "execution_count": 71,
     "metadata": {},
     "output_type": "execute_result"
    }
   ],
   "source": [
    "find_language(\"the\")"
   ]
  },
  {
   "cell_type": "markdown",
   "metadata": {},
   "source": [
    "## 26.\n",
    "\n",
    "★ What is the branching factor of the noun hypernym hierarchy? I.e. for every noun synset that has hyponyms — or children in the hypernym hierarchy — how many do they have on average? You can get all noun synsets using `wn.all_synsets('n')`."
   ]
  },
  {
   "cell_type": "code",
   "execution_count": null,
   "metadata": {},
   "outputs": [],
   "source": []
  },
  {
   "cell_type": "markdown",
   "metadata": {},
   "source": [
    "## 27.\n",
    "\n",
    "★ The polysemy of a word is the number of senses it has. Using WordNet, we can determine that the noun dog has 7 senses with: `len(wn.synsets('dog', 'n'))`. Compute the average polysemy of nouns, verbs, adjectives and adverbs according to WordNet."
   ]
  },
  {
   "cell_type": "code",
   "execution_count": null,
   "metadata": {},
   "outputs": [],
   "source": []
  },
  {
   "cell_type": "markdown",
   "metadata": {},
   "source": [
    "## 28.\n",
    "\n",
    "★ Use one of the predefined similarity measures to score the similarity of each of the following pairs of words. Rank the pairs in order of decreasing similarity. How close is your ranking to the order given here, an order that was established experimentally by (Miller & Charles, 1998): car-automobile, gem-jewel, journey-voyage, boy-lad, coast-shore, asylum-madhouse, magician-wizard, midday-noon, furnace-stove, food-fruit, bird-cock, bird-crane, tool-implement, brother-monk, lad-brother, crane-implement, journey-car, monk-oracle, cemetery-woodland, food-rooster, coast-hill, forest-graveyard, shore-woodland, monk-slave, coast-forest, lad-wizard, chord-smile, glass-magician, rooster-voyage, noon-string."
   ]
  },
  {
   "cell_type": "code",
   "execution_count": null,
   "metadata": {},
   "outputs": [],
   "source": []
  }
 ],
 "metadata": {
  "kernelspec": {
   "display_name": "Python 3",
   "language": "python",
   "name": "python3"
  },
  "language_info": {
   "codemirror_mode": {
    "name": "ipython",
    "version": 3
   },
   "file_extension": ".py",
   "mimetype": "text/x-python",
   "name": "python",
   "nbconvert_exporter": "python",
   "pygments_lexer": "ipython3",
   "version": "3.7.6"
  }
 },
 "nbformat": 4,
 "nbformat_minor": 4
}
