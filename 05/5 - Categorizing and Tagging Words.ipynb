{
 "cells": [
  {
   "cell_type": "markdown",
   "metadata": {},
   "source": [
    "[Chapter Here](https://www.nltk.org/book/ch05.html)\n",
    "\n",
    "Chapter Goals:\n",
    "1. What are lexical categories and how are they used in natural language processing?\n",
    "2. What is a good Python data structure for storing words and their categories?\n",
    "3. How can we automatically tag each word of a text with its word class?\n",
    "\n",
    "# 1 - Using a Tagger\n",
    "\n",
    "* [POS Tags (Penn Tree)](https://www.ling.upenn.edu/courses/Fall_2003/ling001/penn_treebank_pos.html)"
   ]
  },
  {
   "cell_type": "code",
   "execution_count": 4,
   "metadata": {},
   "outputs": [
    {
     "data": {
      "text/plain": [
       "[('And', 'CC'),\n",
       " ('now', 'RB'),\n",
       " ('for', 'IN'),\n",
       " ('something', 'NN'),\n",
       " ('completely', 'RB'),\n",
       " ('different', 'JJ')]"
      ]
     },
     "execution_count": 4,
     "metadata": {},
     "output_type": "execute_result"
    }
   ],
   "source": [
    "import nltk\n",
    "\n",
    "text = nltk.word_tokenize(\"And now for something completely different\")\n",
    "nltk.pos_tag(text)"
   ]
  },
  {
   "cell_type": "code",
   "execution_count": 6,
   "metadata": {},
   "outputs": [
    {
     "name": "stdout",
     "output_type": "stream",
     "text": [
      "RB: adverb\n",
      "    occasionally unabatingly maddeningly adventurously professedly\n",
      "    stirringly prominently technologically magisterially predominately\n",
      "    swiftly fiscally pitilessly ...\n"
     ]
    }
   ],
   "source": [
    "nltk.help.upenn_tagset('RB')"
   ]
  },
  {
   "cell_type": "code",
   "execution_count": 7,
   "metadata": {},
   "outputs": [
    {
     "name": "stdout",
     "output_type": "stream",
     "text": [
      "NN: noun, common, singular or mass\n",
      "    common-carrier cabbage knuckle-duster Casino afghan shed thermostat\n",
      "    investment slide humour falloff slick wind hyena override subhumanity\n",
      "    machinist ...\n",
      "NNP: noun, proper, singular\n",
      "    Motown Venneboerger Czestochwa Ranzer Conchita Trumplane Christos\n",
      "    Oceanside Escobar Kreisler Sawyer Cougar Yvette Ervin ODI Darryl CTCA\n",
      "    Shannon A.K.C. Meltex Liverpool ...\n",
      "NNPS: noun, proper, plural\n",
      "    Americans Americas Amharas Amityvilles Amusements Anarcho-Syndicalists\n",
      "    Andalusians Andes Andruses Angels Animals Anthony Antilles Antiques\n",
      "    Apache Apaches Apocrypha ...\n",
      "NNS: noun, common, plural\n",
      "    undergraduates scotches bric-a-brac products bodyguards facets coasts\n",
      "    divestitures storehouses designs clubs fragrances averages\n",
      "    subjectivists apprehensions muses factory-jobs ...\n"
     ]
    }
   ],
   "source": [
    "nltk.help.upenn_tagset('NN.*')"
   ]
  },
  {
   "cell_type": "markdown",
   "metadata": {},
   "source": [
    "Notice that POS changes on the context of the word that is being used. For example, 'refuse' is first used as a VBP (*Verb, non-3rd person singular present*) then used as part of a Noun (*refuse permit*) in the following sentence:\n",
    "\n",
    "    They refuse to permit us to obtain the refuse permit"
   ]
  },
  {
   "cell_type": "code",
   "execution_count": 11,
   "metadata": {},
   "outputs": [
    {
     "data": {
      "text/plain": [
       "[('They', 'PRP'),\n",
       " ('refuse', 'VBP'),\n",
       " ('to', 'TO'),\n",
       " ('permit', 'VB'),\n",
       " ('us', 'PRP'),\n",
       " ('to', 'TO'),\n",
       " ('obtain', 'VB'),\n",
       " ('the', 'DT'),\n",
       " ('refuse', 'NN'),\n",
       " ('permit', 'NN')]"
      ]
     },
     "execution_count": 11,
     "metadata": {},
     "output_type": "execute_result"
    }
   ],
   "source": [
    "text = nltk.word_tokenize(\"They refuse to permit us to obtain the refuse permit\")\n",
    "\n",
    "nltk.pos_tag(text)"
   ]
  },
  {
   "cell_type": "markdown",
   "metadata": {},
   "source": [
    "# 2 - Tagged Corpora\n",
    "\n",
    "## Penn Tree Bank Tags:\n",
    "\n",
    "<img src='https://www.researchgate.net/profile/Han_Van_Der_Aa/publication/320858849/figure/tbl3/AS:631618876235795@1527601083401/4-Overview-of-the-Penn-Treebank-tagset-from-135-p131.png' width=75%>"
   ]
  },
  {
   "cell_type": "markdown",
   "metadata": {},
   "source": [
    "## 2.3 Universal Part-of-Speech Tagset\n",
    "\n",
    "|Tag |Meaning            |English Examples                      |\n",
    "|----|-------------------|--------------------------------------|\n",
    "|ADJ |adjective          |new, good, high, special, big, local  |\n",
    "|ADP |adposition         |on, of, at, with, by, into, under     |\n",
    "|ADV |adverb             |really, already, still, early, now    |\n",
    "|CONJ|conjunction        |and, or, but, if, while, although     |\n",
    "|DET |determiner, article|the, a, some, most, every, no, which  |\n",
    "|NOUN|noun               |year, home, costs, time, Africa       |\n",
    "|NUM |numeral            |twenty-four, fourth, 1991, 14:24      |\n",
    "|PRT |particle           |at, on, out, over per, that, up, with |\n",
    "|PRON|pronoun            |he, their, her, its, my, I, us        |\n",
    "|VERB|verb               |is, say, told, given, playing, would  |\n",
    "|.   |punctuation marks  |. , ; !                               |\n",
    "|X   |other              |ersatz, esprit, dunno, gr8, univeristy|"
   ]
  },
  {
   "cell_type": "markdown",
   "metadata": {},
   "source": [
    "# 4 - Automatic Tagging\n",
    "\n",
    "* **4.1** default tagger \n",
    "    * gives every word the same tag initially\n",
    "    * usually default tag is Noun because most new words are Nouns\n",
    "* **4.2** regular expression tagger\n",
    "    * tag items based on endings of words (like *.*ing* is a VBG, *.ed* is VBD and *.*s* is NNS\n",
    "* **4.3** Lookup Tagger\n",
    "    * get top-n words, find their most frequent tags in a corpa\n",
    "    * create a UnigramTagger with these top-n words and tag stuff "
   ]
  },
  {
   "cell_type": "code",
   "execution_count": 46,
   "metadata": {},
   "outputs": [
    {
     "data": {
      "text/plain": [
       "0.45578495136941344"
      ]
     },
     "execution_count": 46,
     "metadata": {},
     "output_type": "execute_result"
    }
   ],
   "source": [
    "from nltk.corpus import brown\n",
    "\n",
    "fd = nltk.FreqDist(brown.words(categories='news'))\n",
    "cfd = nltk.ConditionalFreqDist(brown.tagged_words(categories='news'))\n",
    "most_freq_words = fd.most_common(100)\n",
    "likely_tags = dict((word, cfd[word].max()) for (word, _) in most_freq_words)\n",
    "baseline_tagger = nltk.UnigramTagger(model=likely_tags)\n",
    "\n",
    "# for eval purposes \n",
    "# brown_tagged_sents is an example of **gold standard**\n",
    "brown_tagged_sents = brown.tagged_sents(categories='news')\n",
    "baseline_tagger.evaluate(brown_tagged_sents)"
   ]
  },
  {
   "cell_type": "code",
   "execution_count": 22,
   "metadata": {},
   "outputs": [
    {
     "data": {
      "text/plain": [
       "FreqDist({'AT': 5558, 'AT-TL': 18, 'AT-HL': 4})"
      ]
     },
     "execution_count": 22,
     "metadata": {},
     "output_type": "execute_result"
    }
   ],
   "source": [
    "cfd['the']"
   ]
  },
  {
   "cell_type": "code",
   "execution_count": 23,
   "metadata": {},
   "outputs": [
    {
     "data": {
      "text/plain": [
       "'AT'"
      ]
     },
     "execution_count": 23,
     "metadata": {},
     "output_type": "execute_result"
    }
   ],
   "source": [
    "cfd['the'].max()"
   ]
  },
  {
   "cell_type": "code",
   "execution_count": 40,
   "metadata": {},
   "outputs": [
    {
     "data": {
      "text/plain": [
       "'{the: AT, ,: ,, .: ., of: IN, and: CC, to: TO, a: AT, in: IN, for: IN, The: AT, that: CS, ``: ``, is: BEZ, was: BEDZ, \"\": \"\", on: IN, at: IN, with: IN, be: BE, by: IN, as: CS, he: PPS, said: VBD, his: PP$, will: MD, it: PPS, from: IN, are: BER, ;: ., an: AT, has: HVZ, --: --, had: HVD, who: WPS, have: HV, not: *, Mrs.: NP, were: BED, this: DT, which: WDT, would: MD, their: PP$, been: BEN, they: PPSS, He: PPS, one: CD, I: PPSS, but: CC, its: PP$, or: CC, ): ), more: AP, Mr.: NP, (: (, up: RP, all: ABN, out: RP, last: AP, two: CD, other: AP, :: :, new: JJ, first: OD, than: IN, year: NN, A: AT, about: IN, there: EX, when: WRB, home: NN, after: IN, In: IN, also: RB, It: PPS, over: IN, into: IN, no: AT, But: CC, made: VBN, only: AP, her: PP$, years: NNS, time: NN, three: CD, them: PPO, some: DTI, can: MD, him: PPO, New: JJ-TL, any: DTI, state: NN, ?: ., President: NN-TL, before: IN, week: NN, could: MD, under: IN, against: IN, we: PPSS, what: WDT}'"
      ]
     },
     "execution_count": 40,
     "metadata": {},
     "output_type": "execute_result"
    }
   ],
   "source": [
    "str(likely_tags).replace(\"\\'\",\"\")"
   ]
  },
  {
   "cell_type": "code",
   "execution_count": 45,
   "metadata": {},
   "outputs": [
    {
     "data": {
      "text/plain": [
       "[('I', 'PPSS'),\n",
       " ('do', None),\n",
       " ('not', '*'),\n",
       " ('like', None),\n",
       " ('green', None),\n",
       " ('eggs', None),\n",
       " ('and', 'CC'),\n",
       " ('ham', None),\n",
       " (',', ','),\n",
       " ('I', 'PPSS'),\n",
       " ('do', None),\n",
       " ('not', '*'),\n",
       " ('like', None),\n",
       " ('them', 'PPO'),\n",
       " ('Sam', None),\n",
       " ('I', 'PPSS'),\n",
       " ('am', None),\n",
       " ('!', None)]"
      ]
     },
     "execution_count": 45,
     "metadata": {},
     "output_type": "execute_result"
    }
   ],
   "source": [
    "raw = 'I do not like green eggs and ham, I do not like them Sam I am!'\n",
    "baseline_tagger.tag(nltk.word_tokenize(raw))"
   ]
  },
  {
   "cell_type": "markdown",
   "metadata": {},
   "source": [
    "# 5 - N-Gram Tagging"
   ]
  },
  {
   "cell_type": "code",
   "execution_count": null,
   "metadata": {},
   "outputs": [],
   "source": []
  }
 ],
 "metadata": {
  "kernelspec": {
   "display_name": "Python 3",
   "language": "python",
   "name": "python3"
  },
  "language_info": {
   "codemirror_mode": {
    "name": "ipython",
    "version": 3
   },
   "file_extension": ".py",
   "mimetype": "text/x-python",
   "name": "python",
   "nbconvert_exporter": "python",
   "pygments_lexer": "ipython3",
   "version": "3.7.4"
  }
 },
 "nbformat": 4,
 "nbformat_minor": 2
}
