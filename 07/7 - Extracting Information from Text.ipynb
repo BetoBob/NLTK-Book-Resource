{
 "cells": [
  {
   "cell_type": "markdown",
   "metadata": {},
   "source": [
    "[Chapter Here](https://www.nltk.org/book/ch07.html)\n",
    "\n",
    "Chapter questions:\n",
    "\n",
    "1. How can we build a system that extracts structured data, such as tables, from unstructured text?\n",
    "2. What are some robust methods for identifying the entities and relationships described in a text?\n",
    "3. Which corpora are appropriate for this work, and how do we use them for training and evaluating our models?\n",
    "\n",
    "\n",
    "# 1 - Information Extraction"
   ]
  },
  {
   "cell_type": "markdown",
   "metadata": {},
   "source": [
    "## 1.1 Architecture\n",
    "\n",
    "![IE Pipeline](https://www.nltk.org/images/ie-architecture.png)\n",
    "\n",
    "(Example) given a document that indicates that the company Georgia-Pacific is located in Atlanta, it might generate the tuple:\n",
    "\n",
    "    ([ORG: 'Georgia-Pacific'] 'in' [LOC: 'Atlanta'])"
   ]
  },
  {
   "cell_type": "code",
   "execution_count": 1,
   "metadata": {},
   "outputs": [],
   "source": [
    "import nltk\n",
    "\n",
    "# first three tasks in NLP Pipeline\n",
    "def ie_preprocess(document):\n",
    "    sentences = nltk.sent_tokenize(document)\n",
    "    sentences = [nltk.word_tokenize(sent) for sent in sentences]\n",
    "    sentences = [nltk.pos_tag(sent) for sent in sentences]"
   ]
  },
  {
   "cell_type": "markdown",
   "metadata": {},
   "source": [
    "# 2 - Chunking\n",
    "\n",
    "**chunking**: basic technique for entity detetion\n",
    "\n",
    "![chunking](https://www.nltk.org/images/chunk-segmentation.png)"
   ]
  },
  {
   "cell_type": "code",
   "execution_count": null,
   "metadata": {},
   "outputs": [],
   "source": []
  }
 ],
 "metadata": {
  "kernelspec": {
   "display_name": "Python 3",
   "language": "python",
   "name": "python3"
  },
  "language_info": {
   "codemirror_mode": {
    "name": "ipython",
    "version": 3
   },
   "file_extension": ".py",
   "mimetype": "text/x-python",
   "name": "python",
   "nbconvert_exporter": "python",
   "pygments_lexer": "ipython3",
   "version": "3.7.4"
  }
 },
 "nbformat": 4,
 "nbformat_minor": 2
}
