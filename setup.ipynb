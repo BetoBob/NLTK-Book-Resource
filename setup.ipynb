{
 "cells": [
  {
   "cell_type": "markdown",
   "metadata": {},
   "source": [
    "# Introduction and Setup\n",
    "\n",
    "*intro message explaining what this resource can be used for*"
   ]
  },
  {
   "cell_type": "markdown",
   "metadata": {},
   "source": [
    "## What Are Jupyter Notebooks?\n",
    "\n",
    "A Jupyter Notebook is a computational enviornment that allows you to write and run code. It also allows you to make detailed documentation alongside your code. This setup page, in fact, is a jupyter notebook! \n",
    "\n",
    "Jupyter Notebooks have two main components: code cells and markdown cells. The text you are reading here is a markdown cell. Markdown is a simple way of writing documentation. If you click this markdown cell twice, you will be able to edit this markdown text. \n",
    "\n",
    "* [Markdown Cheat Sheet](https://www.markdownguide.org/cheat-sheet/)\n",
    "\n",
    "The other component, *code cells*, can run python code and will display the code's output. To run a code cell such as the one below, click on it and hit the run button. Alternatively you can use a run shortcut, such as:\n",
    "* `shift + enter` on Windows\n",
    "* `command + enter` on Mac\n",
    "\n",
    "Try running the code cell below! Feel free to write and run your own math expressions."
   ]
  },
  {
   "cell_type": "code",
   "execution_count": null,
   "metadata": {},
   "outputs": [],
   "source": [
    "2 + 3"
   ]
  },
  {
   "cell_type": "markdown",
   "metadata": {},
   "source": [
    "Python and Jupyter Notebooks will be explained more in the book readings and corresponding chapter notes provided in this repository. There are two ways you can run the Jupyter Notebooks in this repository. First there is **Google Colab**, a google service that allows you run Jupyter Notebooks in a browser without having to download any software. The second is through **Anaconda**, a free package of data science tools you can download to run NLTK and Jupyter Notebooks.\n",
    "\n",
    "It is recommended that you use Anaconda while using this repository because there are certain features like reading large files that can be more difficult to do on Google Colab. However, if you prefer not to use Anaconda or want to try these Notebooks before deciding if **Anocanda** is worth the [5 GB minimum download](https://docs.anaconda.com/anaconda/install/), you will be able to run most of the coding examples through Google Colab. Code that cannot be run through Anocanda will be noted."
   ]
  },
  {
   "cell_type": "markdown",
   "metadata": {},
   "source": [
    "## Using Google Colab\n",
    "\n",
    "You can run notebooks in Google Colab through the provided links on the [NLTK-Book-Resource table of contents](https://github.com/BetoBob/NLTK-Book-Resource). This allows you to edit and run all the notebook in a web browser. Google Colab has the NLTK library pre-installed, but you will have to need to download the text files used in the coding examples (which takes a little over 5 seconds to load). \n",
    "\n",
    "With a Google account, you can save your work in Google Drive. Simply click `File > Save a copy in Drive` and your jupyter notebook will be stored as a file like a Google Doc.\n",
    "\n",
    "* [More about Google Colab](https://colab.research.google.com/notebooks/intro.ipynb)\n",
    "* [NLTK-Book-Resource table of contents](https://github.com/BetoBob/NLTK-Book-Resource)\n",
    "\n",
    "### Important Features to Know\n",
    "\n",
    "* you can add code and text cells using the `+ Code` and `+ Text` buttons\n",
    "* when you click cells, you have the option to:\n",
    "    * move them\n",
    "    * copy them\n",
    "    * delete them \n",
    "    * clear the code output\n",
    "* if you want to stop your code from running, select `Runtime > Interupt Execution`\n",
    "* if you want to restart the notebook entirely, select `Runtime > Restart Runtime`\n",
    "    * the purpose of restarting your notebook will be explained more in the Chapter 1 notes"
   ]
  },
  {
   "cell_type": "markdown",
   "metadata": {},
   "source": [
    "## Using Anocanda on your Machine\n",
    "\n",
    "If you want to work on the notebook files locally on your computer, you can use install Anocanda. It's a free and convenient data science toolkit that includes Jupyter Notebooks, and is available on Windows, Mac and Linux. \n",
    "\n",
    "* [Anocanda Individual Edition Download Page](https://www.anaconda.com/products/individual)\n",
    "___\n",
    "\n",
    "* explain what to select in the installer\n",
    "* explain how to download this repository\n",
    "* explain how to open these Jupyter files\n",
    "   * explain directories of this program\n",
    "* install NLTK \n",
    "    * explain what Python libraries are briefly\n",
    "* install nltk book library\n",
    "* explain important features of Anocanda Jupyter Notebooks"
   ]
  },
  {
   "cell_type": "markdown",
   "metadata": {},
   "source": [
    "### Installing NLTK"
   ]
  },
  {
   "cell_type": "code",
   "execution_count": null,
   "metadata": {},
   "outputs": [],
   "source": [
    "!pip install nltk"
   ]
  },
  {
   "cell_type": "markdown",
   "metadata": {},
   "source": [
    "### Downloading the Resources for the Book\n",
    "* only need to run this once"
   ]
  },
  {
   "cell_type": "code",
   "execution_count": null,
   "metadata": {},
   "outputs": [],
   "source": [
    "import nltk\n",
    "nltk.download('book')"
   ]
  }
 ],
 "metadata": {
  "kernelspec": {
   "display_name": "Python 3",
   "language": "python",
   "name": "python3"
  },
  "language_info": {
   "codemirror_mode": {
    "name": "ipython",
    "version": 3
   },
   "file_extension": ".py",
   "mimetype": "text/x-python",
   "name": "python",
   "nbconvert_exporter": "python",
   "pygments_lexer": "ipython3",
   "version": "3.7.6"
  }
 },
 "nbformat": 4,
 "nbformat_minor": 4
}
